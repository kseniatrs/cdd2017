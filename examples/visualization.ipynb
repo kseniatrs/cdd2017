{
 "cells": [
  {
   "cell_type": "code",
   "execution_count": 59,
   "metadata": {
    "collapsed": false
   },
   "outputs": [],
   "source": [
    "from rdkit.Chem import AllChem as ch\n",
    "from rdkit.Chem import Draw as d\n",
    "from rdkit.Chem import Lipinski as l\n",
    "from rdkit.Chem import Descriptors\n",
    "\n",
    "def lipinski(m):\n",
    "    return sum([Descriptors.MolWt(m)>500, l.NumHDonors(m)>5,l.NumHAcceptors(m)>10, Descriptors.MolLogP(m)>5])"
   ]
  },
  {
   "cell_type": "code",
   "execution_count": 60,
   "metadata": {
    "collapsed": false
   },
   "outputs": [],
   "source": [
    "suppl = ch.SDMolSupplier('drugbank.sdf')\n",
    "mols = [x for x in suppl if x is not None]\n",
    "\n",
    "mols.append(ch.MolFromSmiles(\"C1CCCCC1\"))\n",
    "mols.append(ch.MolFromSmiles(\"c1ccccc1\"))"
   ]
  },
  {
   "cell_type": "code",
   "execution_count": 61,
   "metadata": {
    "collapsed": false
   },
   "outputs": [],
   "source": [
    "map(ch.Compute2DCoords,mols)\n",
    "for x in mols:\n",
    "    x.SetIntProp(\"Ro5\",lipinski(x))\n",
    "violations=[lipinski(x) for x in mols]"
   ]
  },
  {
   "cell_type": "code",
   "execution_count": 5,
   "metadata": {
    "collapsed": false
   },
   "outputs": [],
   "source": [
    "d.MolToFile(m,'mol.png')"
   ]
  },
  {
   "cell_type": "code",
   "execution_count": 67,
   "metadata": {
    "collapsed": false
   },
   "outputs": [],
   "source": [
    "img=d.MolsToGridImage(mols[:15],kekulize=False,subImgSize=(400,400),legends=[mol.GetProp(\"GENERIC_NAME\") + \":\" + str(vio) for mol,vio in zip(mols[:15],violations)])"
   ]
  },
  {
   "cell_type": "code",
   "execution_count": 68,
   "metadata": {
    "collapsed": true
   },
   "outputs": [],
   "source": [
    "img.show()"
   ]
  },
  {
   "cell_type": "code",
   "execution_count": 31,
   "metadata": {
    "collapsed": false
   },
   "outputs": [
    {
     "data": {
      "text/plain": [
       "{'ALOGPS_LOGP': -0.76,\n",
       " 'ALOGPS_LOGS': -4.67,\n",
       " 'ALOGPS_SOLUBILITY': '4.64e-02 g/l',\n",
       " 'DATABASE_ID': 'DB00006',\n",
       " 'DATABASE_NAME': 'drugbank',\n",
       " 'DRUGBANK_ID': 'DB00006',\n",
       " 'DRUG_GROUPS': 'approved; investigational',\n",
       " 'EXACT_MASS': 2178.985813062,\n",
       " 'FORMULA': 'C98H138N24O33',\n",
       " 'GENERIC_NAME': 'Bivalirudin',\n",
       " 'INCHI_IDENTIFIER': 'InChI=1S/C98H138N24O33/c1-5-52(4)82(96(153)122-39-15-23-70(122)92(149)114-60(30-34-79(134)135)85(142)111-59(29-33-78(132)133)86(143)116-64(43-55-24-26-56(123)27-25-55)89(146)118-67(97(154)155)40-51(2)3)119-87(144)61(31-35-80(136)137)112-84(141)58(28-32-77(130)131)113-88(145)63(42-54-18-10-7-11-19-54)117-90(147)66(45-81(138)139)110-76(129)50-107-83(140)65(44-71(100)124)109-75(128)49-106-73(126)47-104-72(125)46-105-74(127)48-108-91(148)68-21-13-38-121(68)95(152)62(20-12-36-103-98(101)102)115-93(150)69-22-14-37-120(69)94(151)57(99)41-53-16-8-6-9-17-53/h6-11,16-19,24-27,51-52,57-70,82,123H,5,12-15,20-23,28-50,99H2,1-4H3,(H2,100,124)(H,104,125)(H,105,127)(H,106,126)(H,107,140)(H,108,148)(H,109,128)(H,110,129)(H,111,142)(H,112,141)(H,113,145)(H,114,149)(H,115,150)(H,116,143)(H,117,147)(H,118,146)(H,119,144)(H,130,131)(H,132,133)(H,134,135)(H,136,137)(H,138,139)(H,154,155)(H4,101,102,103)/t52-,57+,58-,59-,60-,61-,62-,63-,64-,65-,66-,67-,68-,69-,70-,82-/m0/s1',\n",
       " 'INCHI_KEY': 'OIRCOABEOLEUMC-GEJPAHFPSA-N',\n",
       " 'JCHEM_ACCEPTOR_COUNT': 37.0,\n",
       " 'JCHEM_AVERAGE_POLARIZABILITY': 215.45560313091494,\n",
       " 'JCHEM_BIOAVAILABILITY': 0.0,\n",
       " 'JCHEM_DONOR_COUNT': 28.0,\n",
       " 'JCHEM_FORMAL_CHARGE': 0.0,\n",
       " 'JCHEM_GHOSE_FILTER': 0.0,\n",
       " 'JCHEM_IUPAC': '(4S)-4-[(2S)-2-[(2S)-2-[(2S)-2-{2-[(2S)-2-(2-{2-[2-(2-{[(2S)-1-[(2S)-2-{[(2S)-1-[(2R)-2-amino-3-phenylpropanoyl]pyrrolidin-2-yl]formamido}-5-carbamimidamidopentanoyl]pyrrolidin-2-yl]formamido}acetamido)acetamido]acetamido}acetamido)-3-carbamoylpropanamido]acetamido}-3-carboxypropanamido]-3-phenylpropanamido]-4-carboxybutanamido]-4-{[(2S,3S)-1-[(2S)-2-{[(1S)-3-carboxy-1-{[(1S)-3-carboxy-1-{[(1S)-1-{[(1S)-1-carboxy-3-methylbutyl]carbamoyl}-2-(4-hydroxyphenyl)ethyl]carbamoyl}propyl]carbamoyl}propyl]carbamoyl}pyrrolidin-1-yl]-3-methyl-1-oxopentan-2-yl]carbamoyl}butanoic acid',\n",
       " 'JCHEM_LOGP': -14.345512778557275,\n",
       " 'JCHEM_MDDR_LIKE_RULE': 1.0,\n",
       " 'JCHEM_NUMBER_OF_RINGS': 6.0,\n",
       " 'JCHEM_PHYSIOLOGICAL_CHARGE': -4.0,\n",
       " 'JCHEM_PKA': 3.177101336420163,\n",
       " 'JCHEM_PKA_STRONGEST_ACIDIC': 2.7944312684415116,\n",
       " 'JCHEM_PKA_STRONGEST_BASIC': 11.878406919439332,\n",
       " 'JCHEM_POLAR_SURFACE_AREA': 901.5700000000003,\n",
       " 'JCHEM_REFRACTIVITY': 543.3342000000006,\n",
       " 'JCHEM_ROTATABLE_BOND_COUNT': 66.0,\n",
       " 'JCHEM_RULE_OF_FIVE': 0.0,\n",
       " 'JCHEM_TRADITIONAL_IUPAC': 'bivalirudin',\n",
       " 'JCHEM_VEBER_RULE': 0.0,\n",
       " 'MOLECULAR_WEIGHT': 2180.2853,\n",
       " 'PRODUCTS': 'Angiomax; Bivalirudin; Bivalirudin for Injection',\n",
       " 'SECONDARY_ACCESSION_NUMBERS': 'BTD00076; BIOD00076',\n",
       " 'SMILES': 'CC[C@H](C)[C@H](NC(=O)[C@H](CCC(O)=O)NC(=O)[C@H](CCC(O)=O)NC(=O)[C@H](CC1=CC=CC=C1)NC(=O)[C@H](CC(O)=O)NC(=O)CNC(=O)[C@H](CC(N)=O)NC(=O)CNC(=O)CNC(=O)CNC(=O)CNC(=O)[C@@H]1CCCN1C(=O)[C@H](CCCNC(N)=N)NC(=O)[C@@H]1CCCN1C(=O)[C@H](N)CC1=CC=CC=C1)C(=O)N1CCC[C@H]1C(=O)N[C@@H](CCC(O)=O)C(=O)N[C@@H](CCC(O)=O)C(=O)N[C@@H](CC1=CC=C(O)C=C1)C(=O)N[C@@H](CC(C)C)C(O)=O'}"
      ]
     },
     "execution_count": 31,
     "metadata": {},
     "output_type": "execute_result"
    }
   ],
   "source": [
    "mols[0].GetPropsAsDict()"
   ]
  },
  {
   "cell_type": "code",
   "execution_count": 35,
   "metadata": {
    "collapsed": false
   },
   "outputs": [
    {
     "data": {
      "text/plain": [
       "['AddConformer',\n",
       " 'ClearComputedProps',\n",
       " 'ClearProp',\n",
       " 'Compute2DCoords',\n",
       " 'ComputeGasteigerCharges',\n",
       " 'Debug',\n",
       " 'GetAromaticAtoms',\n",
       " 'GetAtomWithIdx',\n",
       " 'GetAtoms',\n",
       " 'GetAtomsMatchingQuery',\n",
       " 'GetBondBetweenAtoms',\n",
       " 'GetBondWithIdx',\n",
       " 'GetBonds',\n",
       " 'GetBoolProp',\n",
       " 'GetConformer',\n",
       " 'GetConformers',\n",
       " 'GetDoubleProp',\n",
       " 'GetIntProp',\n",
       " 'GetNumAtoms',\n",
       " 'GetNumBonds',\n",
       " 'GetNumConformers',\n",
       " 'GetNumHeavyAtoms',\n",
       " 'GetProp',\n",
       " 'GetPropNames',\n",
       " 'GetPropsAsDict',\n",
       " 'GetRingInfo',\n",
       " 'GetSubstructMatch',\n",
       " 'GetSubstructMatches',\n",
       " 'GetUnsignedProp',\n",
       " 'HasProp',\n",
       " 'HasSubstructMatch',\n",
       " 'NeedsUpdatePropertyCache',\n",
       " 'RemoveAllConformers',\n",
       " 'RemoveConformer',\n",
       " 'SetBoolProp',\n",
       " 'SetDoubleProp',\n",
       " 'SetIntProp',\n",
       " 'SetProp',\n",
       " 'SetUnsignedProp',\n",
       " 'ToBinary',\n",
       " 'UpdatePropertyCache',\n",
       " '__class__',\n",
       " '__copy__',\n",
       " '__deepcopy__',\n",
       " '__delattr__',\n",
       " '__dict__',\n",
       " '__dir__',\n",
       " '__doc__',\n",
       " '__eq__',\n",
       " '__format__',\n",
       " '__ge__',\n",
       " '__getattribute__',\n",
       " '__getinitargs__',\n",
       " '__gt__',\n",
       " '__hash__',\n",
       " '__init__',\n",
       " '__instance_size__',\n",
       " '__le__',\n",
       " '__lt__',\n",
       " '__module__',\n",
       " '__ne__',\n",
       " '__new__',\n",
       " '__reduce__',\n",
       " '__reduce_ex__',\n",
       " '__repr__',\n",
       " '__safe_for_unpickling__',\n",
       " '__setattr__',\n",
       " '__sizeof__',\n",
       " '__str__',\n",
       " '__subclasshook__',\n",
       " '__weakref__']"
      ]
     },
     "execution_count": 35,
     "metadata": {},
     "output_type": "execute_result"
    }
   ],
   "source": [
    "dir(mols[0])"
   ]
  },
  {
   "cell_type": "code",
   "execution_count": null,
   "metadata": {
    "collapsed": true
   },
   "outputs": [],
   "source": []
  }
 ],
 "metadata": {
  "kernelspec": {
   "display_name": "Python 3",
   "language": "python",
   "name": "python3"
  },
  "language_info": {
   "codemirror_mode": {
    "name": "ipython",
    "version": 3
   },
   "file_extension": ".py",
   "mimetype": "text/x-python",
   "name": "python",
   "nbconvert_exporter": "python",
   "pygments_lexer": "ipython3",
   "version": "3.5.3"
  }
 },
 "nbformat": 4,
 "nbformat_minor": 0
}
