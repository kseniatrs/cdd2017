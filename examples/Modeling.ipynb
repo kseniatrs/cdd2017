{
 "cells": [
  {
   "cell_type": "code",
   "execution_count": 8,
   "metadata": {
    "collapsed": false
   },
   "outputs": [],
   "source": [
    "import sklearn\n",
    "from rdkit.Chem import PandasTools, Descriptors, MolFromSmiles\n",
    "from pandas import DataFrame\n",
    "from sklearn.model_selection import train_test_split\n",
    "\n",
    "from sklearn import svm\n",
    "import numpy as np\n",
    "from sklearn.metrics import mean_squared_error\n",
    "import matplotlib.pyplot as plt"
   ]
  },
  {
   "cell_type": "code",
   "execution_count": 2,
   "metadata": {
    "collapsed": false
   },
   "outputs": [],
   "source": [
    "data_file = open(\"../data/gr_alpha.csv\")\n",
    "data_file.readline()\n",
    "raw_data = [line.strip().split(\",\") for line in data_file]\n",
    "mols = [(int(spls[0]),spls[2],float(spls[1])) for spls in raw_data]"
   ]
  },
  {
   "cell_type": "code",
   "execution_count": 3,
   "metadata": {
    "collapsed": false
   },
   "outputs": [],
   "source": [
    "desc_list = Descriptors.descList\n",
    "# desc_list = [x for x in desc_list if x[0] in compute_descriptors]\n",
    "\n",
    "data = DataFrame(mols, columns=[\"id\",\"smi\",\"ic50\"])\n",
    "data.set_index(\"id\")\n",
    "\n",
    "for desc_name, function in desc_list:\n",
    "    values = []\n",
    "    for smiles in data[\"smi\"]:\n",
    "        mol = MolFromSmiles(smiles)\n",
    "        values.append(function(mol))\n",
    "    data[desc_name] = values\n",
    "# we convert the IC50 values to pIC50 which is defined as the negative logarithm\n",
    "# with base 10 of the concentration in moles rather than nanomoles \n",
    "data[\"pic50\"] = data.ic50.apply(lambda x : -1.0 * np.log10(x / 1.0e9))"
   ]
  },
  {
   "cell_type": "code",
   "execution_count": 50,
   "metadata": {
    "collapsed": false
   },
   "outputs": [
    {
     "name": "stdout",
     "output_type": "stream",
     "text": [
      "(995, 197) (332, 197)\n"
     ]
    },
    {
     "data": {
      "text/html": [
       "<div>\n",
       "<table border=\"1\" class=\"dataframe\">\n",
       "  <thead>\n",
       "    <tr style=\"text-align: right;\">\n",
       "      <th></th>\n",
       "      <th>MinPartialCharge</th>\n",
       "      <th>MinAbsPartialCharge</th>\n",
       "      <th>NumRadicalElectrons</th>\n",
       "      <th>NumValenceElectrons</th>\n",
       "      <th>MolWt</th>\n",
       "      <th>ExactMolWt</th>\n",
       "      <th>MaxPartialCharge</th>\n",
       "      <th>MinEStateIndex</th>\n",
       "      <th>MaxAbsEStateIndex</th>\n",
       "      <th>MinAbsEStateIndex</th>\n",
       "      <th>...</th>\n",
       "      <th>fr_sulfonamd</th>\n",
       "      <th>fr_sulfone</th>\n",
       "      <th>fr_term_acetylene</th>\n",
       "      <th>fr_tetrazole</th>\n",
       "      <th>fr_thiazole</th>\n",
       "      <th>fr_thiocyan</th>\n",
       "      <th>fr_thiophene</th>\n",
       "      <th>fr_unbrch_alkane</th>\n",
       "      <th>fr_urea</th>\n",
       "      <th>pic50</th>\n",
       "    </tr>\n",
       "  </thead>\n",
       "  <tbody>\n",
       "    <tr>\n",
       "      <th>413</th>\n",
       "      <td>1.696602</td>\n",
       "      <td>0.117612</td>\n",
       "      <td>0.0</td>\n",
       "      <td>-0.045838</td>\n",
       "      <td>-0.370300</td>\n",
       "      <td>-0.368712</td>\n",
       "      <td>0.101792</td>\n",
       "      <td>0.979778</td>\n",
       "      <td>-3.628434</td>\n",
       "      <td>3.544903</td>\n",
       "      <td>...</td>\n",
       "      <td>-0.228778</td>\n",
       "      <td>-0.087138</td>\n",
       "      <td>-0.110474</td>\n",
       "      <td>-0.084045</td>\n",
       "      <td>-0.143972</td>\n",
       "      <td>0.0</td>\n",
       "      <td>-0.287081</td>\n",
       "      <td>-0.174940</td>\n",
       "      <td>-0.095527</td>\n",
       "      <td>-0.779251</td>\n",
       "    </tr>\n",
       "    <tr>\n",
       "      <th>443</th>\n",
       "      <td>-0.470379</td>\n",
       "      <td>0.559673</td>\n",
       "      <td>0.0</td>\n",
       "      <td>1.126177</td>\n",
       "      <td>1.130193</td>\n",
       "      <td>1.131787</td>\n",
       "      <td>0.534875</td>\n",
       "      <td>-2.905436</td>\n",
       "      <td>0.695890</td>\n",
       "      <td>-0.680298</td>\n",
       "      <td>...</td>\n",
       "      <td>4.371048</td>\n",
       "      <td>-0.087138</td>\n",
       "      <td>-0.110474</td>\n",
       "      <td>-0.084045</td>\n",
       "      <td>-0.143972</td>\n",
       "      <td>0.0</td>\n",
       "      <td>-0.287081</td>\n",
       "      <td>6.273531</td>\n",
       "      <td>-0.095527</td>\n",
       "      <td>-1.355364</td>\n",
       "    </tr>\n",
       "    <tr>\n",
       "      <th>848</th>\n",
       "      <td>2.795579</td>\n",
       "      <td>-0.669290</td>\n",
       "      <td>0.0</td>\n",
       "      <td>-0.866249</td>\n",
       "      <td>-1.048655</td>\n",
       "      <td>-1.047329</td>\n",
       "      <td>-0.669130</td>\n",
       "      <td>0.644019</td>\n",
       "      <td>0.317887</td>\n",
       "      <td>0.402398</td>\n",
       "      <td>...</td>\n",
       "      <td>-0.228778</td>\n",
       "      <td>-0.087138</td>\n",
       "      <td>-0.110474</td>\n",
       "      <td>-0.084045</td>\n",
       "      <td>-0.143972</td>\n",
       "      <td>0.0</td>\n",
       "      <td>-0.287081</td>\n",
       "      <td>-0.174940</td>\n",
       "      <td>-0.095527</td>\n",
       "      <td>-0.315810</td>\n",
       "    </tr>\n",
       "    <tr>\n",
       "      <th>244</th>\n",
       "      <td>-0.494697</td>\n",
       "      <td>-0.889125</td>\n",
       "      <td>0.0</td>\n",
       "      <td>1.008976</td>\n",
       "      <td>1.006847</td>\n",
       "      <td>1.007995</td>\n",
       "      <td>-0.884501</td>\n",
       "      <td>0.366206</td>\n",
       "      <td>-0.857331</td>\n",
       "      <td>-0.550961</td>\n",
       "      <td>...</td>\n",
       "      <td>-0.228778</td>\n",
       "      <td>-0.087138</td>\n",
       "      <td>-0.110474</td>\n",
       "      <td>-0.084045</td>\n",
       "      <td>-0.143972</td>\n",
       "      <td>0.0</td>\n",
       "      <td>-0.287081</td>\n",
       "      <td>-0.174940</td>\n",
       "      <td>-0.095527</td>\n",
       "      <td>0.010380</td>\n",
       "    </tr>\n",
       "    <tr>\n",
       "      <th>275</th>\n",
       "      <td>-0.495403</td>\n",
       "      <td>2.427348</td>\n",
       "      <td>0.0</td>\n",
       "      <td>-0.045838</td>\n",
       "      <td>0.000559</td>\n",
       "      <td>0.001992</td>\n",
       "      <td>2.364622</td>\n",
       "      <td>-3.516712</td>\n",
       "      <td>0.896824</td>\n",
       "      <td>-0.173047</td>\n",
       "      <td>...</td>\n",
       "      <td>4.371048</td>\n",
       "      <td>-0.087138</td>\n",
       "      <td>-0.110474</td>\n",
       "      <td>-0.084045</td>\n",
       "      <td>-0.143972</td>\n",
       "      <td>0.0</td>\n",
       "      <td>-0.287081</td>\n",
       "      <td>-0.174940</td>\n",
       "      <td>-0.095527</td>\n",
       "      <td>0.715083</td>\n",
       "    </tr>\n",
       "  </tbody>\n",
       "</table>\n",
       "<p>5 rows × 197 columns</p>\n",
       "</div>"
      ],
      "text/plain": [
       "     MinPartialCharge  MinAbsPartialCharge  NumRadicalElectrons  NumValenceElectrons     MolWt  ExactMolWt  MaxPartialCharge  MinEStateIndex  MaxAbsEStateIndex  MinAbsEStateIndex    ...     fr_sulfonamd  fr_sulfone  fr_term_acetylene  fr_tetrazole  fr_thiazole  fr_thiocyan  fr_thiophene  fr_unbrch_alkane   fr_urea     pic50\n",
       "413          1.696602             0.117612                  0.0            -0.045838 -0.370300   -0.368712          0.101792        0.979778          -3.628434           3.544903    ...        -0.228778   -0.087138          -0.110474     -0.084045    -0.143972          0.0     -0.287081         -0.174940 -0.095527 -0.779251\n",
       "443         -0.470379             0.559673                  0.0             1.126177  1.130193    1.131787          0.534875       -2.905436           0.695890          -0.680298    ...         4.371048   -0.087138          -0.110474     -0.084045    -0.143972          0.0     -0.287081          6.273531 -0.095527 -1.355364\n",
       "848          2.795579            -0.669290                  0.0            -0.866249 -1.048655   -1.047329         -0.669130        0.644019           0.317887           0.402398    ...        -0.228778   -0.087138          -0.110474     -0.084045    -0.143972          0.0     -0.287081         -0.174940 -0.095527 -0.315810\n",
       "244         -0.494697            -0.889125                  0.0             1.008976  1.006847    1.007995         -0.884501        0.366206          -0.857331          -0.550961    ...        -0.228778   -0.087138          -0.110474     -0.084045    -0.143972          0.0     -0.287081         -0.174940 -0.095527  0.010380\n",
       "275         -0.495403             2.427348                  0.0            -0.045838  0.000559    0.001992          2.364622       -3.516712           0.896824          -0.173047    ...         4.371048   -0.087138          -0.110474     -0.084045    -0.143972          0.0     -0.287081         -0.174940 -0.095527  0.715083\n",
       "\n",
       "[5 rows x 197 columns]"
      ]
     },
     "execution_count": 50,
     "metadata": {},
     "output_type": "execute_result"
    }
   ],
   "source": [
    "from sklearn.preprocessing import StandardScaler\n",
    "from pandas import DataFrame, concat\n",
    "\n",
    "def scale_df(frame, scaler):\n",
    "    return DataFrame(scaler.transform(frame), columns=frame.columns)\n",
    "\n",
    "scaler = StandardScaler(copy=False)\n",
    "scaler.fit(concat( (train_data.iloc[:,3:], test_data.iloc[:,3:]) ))\n",
    "\n",
    "descriptors_train = scale_df(train_data.iloc[:,3:], scaler)\n",
    "descriptors_train.index = train_data.index\n",
    "descriptors_test = scale_df(test_data.iloc[:,3:], scaler)\n",
    "descriptors_test.index = test_data.index\n",
    "print(descriptors_train.shape, descriptors_test.shape)\n",
    "descriptors_train.head()"
   ]
  },
  {
   "cell_type": "code",
   "execution_count": 40,
   "metadata": {
    "collapsed": false
   },
   "outputs": [
    {
     "data": {
      "text/plain": [
       "['MinPartialCharge',\n",
       " 'MinAbsPartialCharge',\n",
       " 'NumRadicalElectrons',\n",
       " 'NumValenceElectrons',\n",
       " 'MolWt',\n",
       " 'ExactMolWt',\n",
       " 'MaxPartialCharge',\n",
       " 'MinEStateIndex',\n",
       " 'MaxAbsEStateIndex',\n",
       " 'MinAbsEStateIndex',\n",
       " 'HeavyAtomMolWt',\n",
       " 'MaxAbsPartialCharge',\n",
       " 'MaxEStateIndex',\n",
       " 'BalabanJ',\n",
       " 'BertzCT',\n",
       " 'Chi0',\n",
       " 'Chi0n',\n",
       " 'Chi0v',\n",
       " 'Chi1',\n",
       " 'Chi1n',\n",
       " 'Chi1v',\n",
       " 'Chi2n',\n",
       " 'Chi2v',\n",
       " 'Chi3n',\n",
       " 'Chi3v',\n",
       " 'Chi4n',\n",
       " 'Chi4v',\n",
       " 'HallKierAlpha',\n",
       " 'Ipc',\n",
       " 'Kappa1',\n",
       " 'Kappa2',\n",
       " 'Kappa3',\n",
       " 'LabuteASA',\n",
       " 'PEOE_VSA1',\n",
       " 'PEOE_VSA10',\n",
       " 'PEOE_VSA11',\n",
       " 'PEOE_VSA12',\n",
       " 'PEOE_VSA13',\n",
       " 'PEOE_VSA14',\n",
       " 'PEOE_VSA2',\n",
       " 'PEOE_VSA3',\n",
       " 'PEOE_VSA4',\n",
       " 'PEOE_VSA5',\n",
       " 'PEOE_VSA6',\n",
       " 'PEOE_VSA7',\n",
       " 'PEOE_VSA8',\n",
       " 'PEOE_VSA9',\n",
       " 'SMR_VSA1',\n",
       " 'SMR_VSA10',\n",
       " 'SMR_VSA2',\n",
       " 'SMR_VSA3',\n",
       " 'SMR_VSA4',\n",
       " 'SMR_VSA5',\n",
       " 'SMR_VSA6',\n",
       " 'SMR_VSA7',\n",
       " 'SMR_VSA8',\n",
       " 'SMR_VSA9',\n",
       " 'SlogP_VSA1',\n",
       " 'SlogP_VSA10',\n",
       " 'SlogP_VSA11',\n",
       " 'SlogP_VSA12',\n",
       " 'SlogP_VSA2',\n",
       " 'SlogP_VSA3',\n",
       " 'SlogP_VSA4',\n",
       " 'SlogP_VSA5',\n",
       " 'SlogP_VSA6',\n",
       " 'SlogP_VSA7',\n",
       " 'SlogP_VSA8',\n",
       " 'SlogP_VSA9',\n",
       " 'TPSA',\n",
       " 'EState_VSA1',\n",
       " 'EState_VSA10',\n",
       " 'EState_VSA11',\n",
       " 'EState_VSA2',\n",
       " 'EState_VSA3',\n",
       " 'EState_VSA4',\n",
       " 'EState_VSA5',\n",
       " 'EState_VSA6',\n",
       " 'EState_VSA7',\n",
       " 'EState_VSA8',\n",
       " 'EState_VSA9',\n",
       " 'VSA_EState1',\n",
       " 'VSA_EState10',\n",
       " 'VSA_EState2',\n",
       " 'VSA_EState3',\n",
       " 'VSA_EState4',\n",
       " 'VSA_EState5',\n",
       " 'VSA_EState6',\n",
       " 'VSA_EState7',\n",
       " 'VSA_EState8',\n",
       " 'VSA_EState9',\n",
       " 'FractionCSP3',\n",
       " 'HeavyAtomCount',\n",
       " 'NHOHCount',\n",
       " 'NOCount',\n",
       " 'NumAliphaticCarbocycles',\n",
       " 'NumAliphaticHeterocycles',\n",
       " 'NumAliphaticRings',\n",
       " 'NumAromaticCarbocycles',\n",
       " 'NumAromaticHeterocycles',\n",
       " 'NumAromaticRings',\n",
       " 'NumHAcceptors',\n",
       " 'NumHDonors',\n",
       " 'NumHeteroatoms',\n",
       " 'NumRotatableBonds',\n",
       " 'NumSaturatedCarbocycles',\n",
       " 'NumSaturatedHeterocycles',\n",
       " 'NumSaturatedRings',\n",
       " 'RingCount',\n",
       " 'MolLogP',\n",
       " 'MolMR',\n",
       " 'fr_Al_COO',\n",
       " 'fr_Al_OH',\n",
       " 'fr_Al_OH_noTert',\n",
       " 'fr_ArN',\n",
       " 'fr_Ar_COO',\n",
       " 'fr_Ar_N',\n",
       " 'fr_Ar_NH',\n",
       " 'fr_Ar_OH',\n",
       " 'fr_COO',\n",
       " 'fr_COO2',\n",
       " 'fr_C_O',\n",
       " 'fr_C_O_noCOO',\n",
       " 'fr_C_S',\n",
       " 'fr_HOCCN',\n",
       " 'fr_Imine',\n",
       " 'fr_NH0',\n",
       " 'fr_NH1',\n",
       " 'fr_NH2',\n",
       " 'fr_N_O',\n",
       " 'fr_Ndealkylation1',\n",
       " 'fr_Ndealkylation2',\n",
       " 'fr_Nhpyrrole',\n",
       " 'fr_SH',\n",
       " 'fr_aldehyde',\n",
       " 'fr_alkyl_carbamate',\n",
       " 'fr_alkyl_halide',\n",
       " 'fr_allylic_oxid',\n",
       " 'fr_amide',\n",
       " 'fr_amidine',\n",
       " 'fr_aniline',\n",
       " 'fr_aryl_methyl',\n",
       " 'fr_azide',\n",
       " 'fr_azo',\n",
       " 'fr_barbitur',\n",
       " 'fr_benzene',\n",
       " 'fr_benzodiazepine',\n",
       " 'fr_bicyclic',\n",
       " 'fr_diazo',\n",
       " 'fr_dihydropyridine',\n",
       " 'fr_epoxide',\n",
       " 'fr_ester',\n",
       " 'fr_ether',\n",
       " 'fr_furan',\n",
       " 'fr_guanido',\n",
       " 'fr_halogen',\n",
       " 'fr_hdrzine',\n",
       " 'fr_hdrzone',\n",
       " 'fr_imidazole',\n",
       " 'fr_imide',\n",
       " 'fr_isocyan',\n",
       " 'fr_isothiocyan',\n",
       " 'fr_ketone',\n",
       " 'fr_ketone_Topliss',\n",
       " 'fr_lactam',\n",
       " 'fr_lactone',\n",
       " 'fr_methoxy',\n",
       " 'fr_morpholine',\n",
       " 'fr_nitrile',\n",
       " 'fr_nitro',\n",
       " 'fr_nitro_arom',\n",
       " 'fr_nitro_arom_nonortho',\n",
       " 'fr_nitroso',\n",
       " 'fr_oxazole',\n",
       " 'fr_oxime',\n",
       " 'fr_para_hydroxylation',\n",
       " 'fr_phenol',\n",
       " 'fr_phenol_noOrthoHbond',\n",
       " 'fr_phos_acid',\n",
       " 'fr_phos_ester',\n",
       " 'fr_piperdine',\n",
       " 'fr_piperzine',\n",
       " 'fr_priamide',\n",
       " 'fr_prisulfonamd',\n",
       " 'fr_pyridine',\n",
       " 'fr_quatN',\n",
       " 'fr_sulfide',\n",
       " 'fr_sulfonamd',\n",
       " 'fr_sulfone',\n",
       " 'fr_term_acetylene',\n",
       " 'fr_tetrazole',\n",
       " 'fr_thiazole',\n",
       " 'fr_thiocyan',\n",
       " 'fr_thiophene',\n",
       " 'fr_unbrch_alkane',\n",
       " 'fr_urea']"
      ]
     },
     "execution_count": 40,
     "metadata": {},
     "output_type": "execute_result"
    }
   ],
   "source": [
    "train_data, test_data = train_test_split(data)\n",
    "[x[0] for x in desc_list]"
   ]
  },
  {
   "cell_type": "code",
   "execution_count": 41,
   "metadata": {
    "collapsed": false
   },
   "outputs": [
    {
     "data": {
      "text/plain": [
       "['MinPartialCharge',\n",
       " 'MinAbsPartialCharge',\n",
       " 'NumRadicalElectrons',\n",
       " 'NumValenceElectrons',\n",
       " 'MolWt',\n",
       " 'ExactMolWt',\n",
       " 'MaxPartialCharge',\n",
       " 'MinEStateIndex',\n",
       " 'MaxAbsEStateIndex',\n",
       " 'MinAbsEStateIndex',\n",
       " 'HeavyAtomMolWt',\n",
       " 'MaxAbsPartialCharge',\n",
       " 'MaxEStateIndex',\n",
       " 'Chi0',\n",
       " 'Chi0n',\n",
       " 'Chi0v',\n",
       " 'Chi1',\n",
       " 'Chi1n',\n",
       " 'Chi1v',\n",
       " 'Chi2n',\n",
       " 'Chi2v',\n",
       " 'Chi3n',\n",
       " 'Chi3v',\n",
       " 'Chi4n',\n",
       " 'Chi4v']"
      ]
     },
     "execution_count": 41,
     "metadata": {},
     "output_type": "execute_result"
    }
   ],
   "source": [
    "columns = [x[0] for x in desc_list[:13]]\n",
    "columns.extend([x[0] for x in desc_list[15:27]])\n",
    "columns"
   ]
  },
  {
   "cell_type": "code",
   "execution_count": 43,
   "metadata": {
    "collapsed": false
   },
   "outputs": [
    {
     "data": {
      "text/plain": [
       "SVR(C=1, cache_size=200, coef0=0.0, degree=3, epsilon=0.1, gamma=0.01,\n",
       "  kernel='rbf', max_iter=-1, shrinking=True, tol=0.001, verbose=False)"
      ]
     },
     "execution_count": 43,
     "metadata": {},
     "output_type": "execute_result"
    }
   ],
   "source": [
    "params = {\n",
    "        'C': [1, 10, 100, 1000]\n",
    "        , 'epsilon': [0.0, 0.1, 0.2, 0.3, 0.4]\n",
    "        , 'gamma': [1.0, 0.1, 0.01, 0.001]\n",
    "        , 'kernel': ['rbf']\n",
    "    }\n",
    "\n",
    "model = svm.SVR(C=1, epsilon=0.1, gamma=0.01, kernel=\"rbf\")\n",
    "model.fit(train_data[columns], train_data[\"pic50\"]) "
   ]
  },
  {
   "cell_type": "code",
   "execution_count": 44,
   "metadata": {
    "collapsed": false
   },
   "outputs": [
    {
     "data": {
      "image/png": "[encoded data removed]",
      "text/plain": [
       "<matplotlib.figure.Figure at 0x7f2674d78208>"
      ]
     },
     "metadata": {},
     "output_type": "display_data"
    }
   ],
   "source": [
    "plt.rcParams[\"figure.figsize\"] = [15, 15]\n",
    "span = (1,12)\n",
    "axes = plt.gca()\n",
    "axes.set_xlim(span)\n",
    "axes.set_ylim(span)\n",
    "\n",
    "plt.plot((span[0],span[1]), (span[0],span[1]), linestyle='--')\n",
    "\n",
    "# plt.scatter(\n",
    "#     pIC50_train\n",
    "#     , model.predict(descriptors_train)\n",
    "#     , c='green'\n",
    "#     , s=20\n",
    "# )\n",
    "\n",
    "plt.scatter(\n",
    "    test_data[\"pic50\"]\n",
    "    , model.predict(test_data[columns])\n",
    "    , c='blue'\n",
    "    , s=20\n",
    ")\n",
    "plt.show()"
   ]
  },
  {
   "cell_type": "code",
   "execution_count": 23,
   "metadata": {
    "collapsed": false
   },
   "outputs": [
    {
     "name": "stdout",
     "output_type": "stream",
     "text": [
      "R^2: 0.24\n",
      "R: 0.49\n",
      "MSE: 1.38\n"
     ]
    }
   ],
   "source": [
    "print(\"R^2: %0.2f\" % model.score(test_data[columns], test_data.pic50))\n",
    "print(\"R: %0.2f\" % np.sqrt(model.score(test_data[columns], test_data.pic50)))\n",
    "print(\"MSE: %0.2f\" %  mean_squared_error(model.predict(test_data[columns]), test_data.pic50))"
   ]
  },
  {
   "cell_type": "code",
   "execution_count": 24,
   "metadata": {
    "collapsed": false
   },
   "outputs": [
    {
     "data": {
      "image/png": "[encoded data removed]",
      "text/plain": [
       "<matplotlib.figure.Figure at 0x7f2674bfe630>"
      ]
     },
     "metadata": {},
     "output_type": "display_data"
    }
   ],
   "source": [
    "errors = (test_data.pic50 - model.predict(test_data[columns])).abs()\n",
    "weights = np.ones_like(errors) / len(errors)\n",
    "plt.hist(errors, weights=weights, bins=30)\n",
    "plt.show()"
   ]
  },
  {
   "cell_type": "code",
   "execution_count": null,
   "metadata": {
    "collapsed": false
   },
   "outputs": [],
   "source": [
    "from sklearn.ensemble import RandomForestRegressor\n",
    "model2 = RandomForestRegressor()\n",
    "model2.fit(train_data[columns], train_data[\"pic50\"])"
   ]
  },
  {
   "cell_type": "code",
   "execution_count": null,
   "metadata": {
    "collapsed": false
   },
   "outputs": [],
   "source": [
    "plt.rcParams[\"figure.figsize\"] = [15, 15]\n",
    "span = (1,12)\n",
    "axes = plt.gca()\n",
    "axes.set_xlim(span)\n",
    "axes.set_ylim(span)\n",
    "\n",
    "fig = plt.plot((span[0],span[1]), (span[0],span[1]), linestyle='--')\n",
    "\n",
    "# plt.scatter(\n",
    "#     pIC50_train\n",
    "#     , model.predict(descriptors_train)\n",
    "#     , c='green'\n",
    "#     , s=20\n",
    "# )\n",
    "\n",
    "plt.scatter(\n",
    "    test_data[\"pic50\"]\n",
    "    , model2.predict(test_data[columns])\n",
    "    , c='blue'\n",
    "    , s=20\n",
    ")\n",
    "fig"
   ]
  },
  {
   "cell_type": "code",
   "execution_count": 28,
   "metadata": {
    "collapsed": false
   },
   "outputs": [
    {
     "data": {
      "text/plain": [
       "{'C': 1,\n",
       " 'cache_size': 200,\n",
       " 'coef0': 0.0,\n",
       " 'degree': 3,\n",
       " 'epsilon': 0.4,\n",
       " 'gamma': 0.01,\n",
       " 'kernel': 'rbf',\n",
       " 'max_iter': -1,\n",
       " 'shrinking': True,\n",
       " 'tol': 0.001,\n",
       " 'verbose': False}"
      ]
     },
     "execution_count": 28,
     "metadata": {},
     "output_type": "execute_result"
    }
   ],
   "source": [
    "from sklearn.svm import SVR\n",
    "from sklearn.grid_search import GridSearchCV\n",
    "\n",
    "param_grid = [\n",
    "    {\n",
    "        'C': [1, 10, 100, 1000]\n",
    "        , 'epsilon': [0.0, 0.1, 0.2, 0.3, 0.4]\n",
    "        , 'gamma': [1.0, 0.1, 0.01, 0.001]\n",
    "        , 'kernel': ['rbf']\n",
    "    },\n",
    "]\n",
    "\n",
    "gs = GridSearchCV(SVR(), param_grid, n_jobs=2, cv=10)\n",
    "gs.fit(train_data[columns], train_data.pic50)\n",
    "model3 = SVR(**gs.best_estimator_.get_params())\n",
    "gs.best_estimator_.get_params()"
   ]
  },
  {
   "cell_type": "code",
   "execution_count": 29,
   "metadata": {
    "collapsed": false
   },
   "outputs": [
    {
     "data": {
      "text/plain": [
       "SVR(C=1, cache_size=200, coef0=0.0, degree=3, epsilon=0.4, gamma=0.01,\n",
       "  kernel='rbf', max_iter=-1, shrinking=True, tol=0.001, verbose=False)"
      ]
     },
     "execution_count": 29,
     "metadata": {},
     "output_type": "execute_result"
    }
   ],
   "source": [
    "model3"
   ]
  },
  {
   "cell_type": "code",
   "execution_count": null,
   "metadata": {
    "collapsed": true
   },
   "outputs": [],
   "source": []
  }
 ],
 "metadata": {
  "kernelspec": {
   "display_name": "Python 3",
   "language": "python",
   "name": "python3"
  },
  "language_info": {
   "codemirror_mode": {
    "name": "ipython",
    "version": 3
   },
   "file_extension": ".py",
   "mimetype": "text/x-python",
   "name": "python",
   "nbconvert_exporter": "python",
   "pygments_lexer": "ipython3",
   "version": "3.5.3"
  }
 },
 "nbformat": 4,
 "nbformat_minor": 2
}
