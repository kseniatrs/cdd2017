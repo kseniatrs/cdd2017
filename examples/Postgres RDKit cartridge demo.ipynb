{
 "cells": [
  {
   "cell_type": "code",
   "execution_count": 2,
   "metadata": {
    "collapsed": true
   },
   "outputs": [],
   "source": [
    "import psycopg2 as ps\n",
    "from rdkit.Chem import Descriptors\n",
    "from rdkit.Chem import AllChem as ch"
   ]
  },
  {
   "cell_type": "markdown",
   "metadata": {},
   "source": [
    "## Grab all DrugBank molecules"
   ]
  },
  {
   "cell_type": "code",
   "execution_count": 4,
   "metadata": {
    "collapsed": false
   },
   "outputs": [],
   "source": [
    "suppl = ch.SDMolSupplier('/home/uzivatel/data/ivan/projekty/chemspacescripts/scratch/drugbank.sdf')\n",
    "mols = [x for x in suppl if x is not None]"
   ]
  },
  {
   "cell_type": "markdown",
   "metadata": {},
   "source": [
    "## Connect to the DB && get a cursor"
   ]
  },
  {
   "cell_type": "code",
   "execution_count": 60,
   "metadata": {
    "collapsed": false
   },
   "outputs": [],
   "source": [
    "connection = ps.connect(user='uzivatel',\n",
    "                        dbname='drugbank',\n",
    "                        port='9000') # change as needed\n",
    "cursor = connection.cursor()"
   ]
  },
  {
   "cell_type": "markdown",
   "metadata": {},
   "source": [
    "## Load DrugBank into the database"
   ]
  },
  {
   "cell_type": "code",
   "execution_count": 61,
   "metadata": {
    "collapsed": false,
    "scrolled": false
   },
   "outputs": [
    {
     "name": "stdout",
     "output_type": "stream",
     "text": [
      "[(7109L,)]\n",
      "[(42655, 'CCC(C)C(NC(=O)C(CCC(=O)O)NC(=O)C(CCC(=O)O)NC(=O)C(Cc1ccccc1)NC(=O)C(CC(=O)O)NC(=O)CNC(=O)C(CC(N)=O)NC(=O)CNC(=O)CNC(=O)CNC(=O)CNC(=O)C1CCCN1C(=O)C(CCCNC(=N)N)NC(=O)C1CCCN1C(=O)C(N)Cc1ccccc1)C(=O)N1CCCC1C(=O)NC(CCC(=O)O)C(=O)NC(CCC(=O)O)C(=O)NC(Cc1ccc(O)cc1)C(=O)NC(CC(C)C)C(=O)O', None, None, None, None, None, None), (42656, 'CC(C)CC(NC(=O)C(COC(C)(C)C)NC(=O)C(Cc1ccc(O)cc1)NC(=O)C(CO)NC(=O)C(Cc1c[nH]c2ccccc12)NC(=O)C(Cc1cnc[nH]1)NC(=O)C1CCC(=O)N1)C(=O)NC(CCCN=C(N)N)C(=O)N1CCCC1C(=O)NNC(N)=O', None, None, None, None, None, None), (42657, 'N=C(N)NCCCC(NC(=O)C1CCCN1C(=O)C1CSSCCC(=O)NC(Cc2ccc(O)cc2)C(=O)NC(Cc2ccccc2)C(=O)NC(CCC(N)=O)C(=O)NC(CC(N)=O)C(=O)N1)C(=O)NCC(N)=O', None, None, None, None, None, None), (42658, 'CC(=O)NC(Cc1ccc2ccccc2c1)C(=O)NC(Cc1ccc(Cl)cc1)C(=O)NC(Cc1cccnc1)C(=O)NC(CO)C(=O)NC(Cc1ccc(O)cc1)C(=O)NC(CCCNC(N)=O)C(=O)NC(CC(C)C)C(=O)NC(CCCNC(=N)N)C(=O)N1CCCC1C(=O)NC(C)C(N)=O', None, None, None, None, None, None), (42659, 'CC=CCC(C)C(O)C1C(=O)NC(CC)C(=O)N(C)CC(=O)N(C)C(CC(C)C)C(=O)NC(C(C)C)C(=O)N(C)C(CC(C)C)C(=O)NC(C)C(=O)NC(C)C(=O)N(C)C(CC(C)C)C(=O)N(C)C(CC(C)C)C(=O)N(C)C(C(C)C)C(=O)N1C', None, None, None, None, None, None), (42660, 'NCCCCC(NC(=O)C1CCCN1C(=O)C1CSSCC(N)C(=O)NC(Cc2ccccc2)C(=O)NC(Cc2ccccc2)C(=O)NC(CCC(N)=O)C(=O)NC(CC(N)=O)C(=O)N1)C(=O)NCC(N)=O', None, None, None, None, None, None), (42661, 'CC(O)C(CO)NC(=O)C1CSSCC(NC(=O)C(N)Cc2ccccc2)C(=O)NC(Cc2ccccc2)C(=O)NC(Cc2c[nH]c3ccccc23)C(=O)NC(CCCCN)C(=O)NC(C(C)O)C(=O)N1', None, None, None, None, None, None), (42662, 'Cc1ncc(COP(=O)(O)O)c(C=O)c1O', None, None, None, None, None, None), (42663, 'CC1=C2N3=C(C=C4N5=C(C(C)=C6N7C8C(CC(N)=O)C6(C)CCC(=O)NCC(C)OP(=O)(O)OC6C(CO)OC(C6O)n6cn(c9cc(C)c(C)cc96)~[Co]7~5~3(C#N)~N3=C1C(CCC(N)=O)C(C)(CC(N)=O)C83C)C(CCC(N)=O)C4(C)C)C(CCC(N)=O)C2(C)CC(N)=O', None, None, None, None, None, None), (42664, 'Nc1nc(=O)c2c([nH]1)NCC(CNc1ccc(C(=O)NC(CCC(=O)O)C(=O)O)cc1)N2', None, None, None, None, None, None)]\n"
     ]
    }
   ],
   "source": [
    "cursor.execute(\"delete from drugbank.drugbank\") # in case there are old values\n",
    "query = \"insert into drugbank.drugbank (smiles) values %s\" % (', '.join([\"('%s')\" % (ch.MolToSmiles(mol))\n",
    "                                                                         for mol in mols]))\n",
    "cursor.execute(query)\n",
    "cursor.execute(\"select count(*) from drugbank.drugbank\")\n",
    "print(cursor.fetchall())\n",
    "cursor.execute(\"select id, smiles from drugbank.drugbank limit 10\")\n",
    "print(cursor.fetchall())"
   ]
  },
  {
   "cell_type": "markdown",
   "metadata": {},
   "source": [
    "## Create pickled mol instance in the database"
   ]
  },
  {
   "cell_type": "code",
   "execution_count": 62,
   "metadata": {
    "collapsed": false
   },
   "outputs": [
    {
     "name": "stdout",
     "output_type": "stream",
     "text": [
      "[(42655, 'CCC(C)C(NC(=O)C(CCC(=O)O)NC(=O)C(CCC(=O)O)NC(=O)C(Cc1ccccc1)NC(=O)C(CC(=O)O)NC(=O)CNC(=O)C(CC(N)=O)NC(=O)CNC(=O)CNC(=O)CNC(=O)CNC(=O)C1CCCN1C(=O)C(CCCNC(=N)N)NC(=O)C1CCCN1C(=O)C(N)Cc1ccccc1)C(=O)N1CCCC1C(=O)NC(CCC(=O)O)C(=O)NC(CCC(=O)O)C(=O)NC(Cc1ccc(O)cc1)C(=O)NC(CC(C)C)C(=O)O', 'CCC(C)C(NC(=O)C(CCC(=O)O)NC(=O)C(CCC(=O)O)NC(=O)C(Cc1ccccc1)NC(=O)C(CC(=O)O)NC(=O)CNC(=O)C(CC(N)=O)NC(=O)CNC(=O)CNC(=O)CNC(=O)CNC(=O)C1CCCN1C(=O)C(CCCNC(=N)N)NC(=O)C1CCCN1C(=O)C(N)Cc1ccccc1)C(=O)N1CCCC1C(=O)NC(CCC(=O)O)C(=O)NC(CCC(=O)O)C(=O)NC(Cc1ccc(O)cc1)C(=O)NC(CC(C)C)C(=O)O', None, None, None, None, None), (42656, 'CC(C)CC(NC(=O)C(COC(C)(C)C)NC(=O)C(Cc1ccc(O)cc1)NC(=O)C(CO)NC(=O)C(Cc1c[nH]c2ccccc12)NC(=O)C(Cc1cnc[nH]1)NC(=O)C1CCC(=O)N1)C(=O)NC(CCCN=C(N)N)C(=O)N1CCCC1C(=O)NNC(N)=O', 'CC(C)CC(NC(=O)C(COC(C)(C)C)NC(=O)C(Cc1ccc(O)cc1)NC(=O)C(CO)NC(=O)C(Cc1c[nH]c2ccccc12)NC(=O)C(Cc1cnc[nH]1)NC(=O)C1CCC(=O)N1)C(=O)NC(CCCN=C(N)N)C(=O)N1CCCC1C(=O)NNC(N)=O', None, None, None, None, None), (42657, 'N=C(N)NCCCC(NC(=O)C1CCCN1C(=O)C1CSSCCC(=O)NC(Cc2ccc(O)cc2)C(=O)NC(Cc2ccccc2)C(=O)NC(CCC(N)=O)C(=O)NC(CC(N)=O)C(=O)N1)C(=O)NCC(N)=O', 'N=C(N)NCCCC(NC(=O)C1CCCN1C(=O)C1CSSCCC(=O)NC(Cc2ccc(O)cc2)C(=O)NC(Cc2ccccc2)C(=O)NC(CCC(N)=O)C(=O)NC(CC(N)=O)C(=O)N1)C(=O)NCC(N)=O', None, None, None, None, None), (42658, 'CC(=O)NC(Cc1ccc2ccccc2c1)C(=O)NC(Cc1ccc(Cl)cc1)C(=O)NC(Cc1cccnc1)C(=O)NC(CO)C(=O)NC(Cc1ccc(O)cc1)C(=O)NC(CCCNC(N)=O)C(=O)NC(CC(C)C)C(=O)NC(CCCNC(=N)N)C(=O)N1CCCC1C(=O)NC(C)C(N)=O', 'CC(=O)NC(Cc1ccc2ccccc2c1)C(=O)NC(Cc1ccc(Cl)cc1)C(=O)NC(Cc1cccnc1)C(=O)NC(CO)C(=O)NC(Cc1ccc(O)cc1)C(=O)NC(CCCNC(N)=O)C(=O)NC(CC(C)C)C(=O)NC(CCCNC(=N)N)C(=O)N1CCCC1C(=O)NC(C)C(N)=O', None, None, None, None, None), (42659, 'CC=CCC(C)C(O)C1C(=O)NC(CC)C(=O)N(C)CC(=O)N(C)C(CC(C)C)C(=O)NC(C(C)C)C(=O)N(C)C(CC(C)C)C(=O)NC(C)C(=O)NC(C)C(=O)N(C)C(CC(C)C)C(=O)N(C)C(CC(C)C)C(=O)N(C)C(C(C)C)C(=O)N1C', 'CC=CCC(C)C(O)C1C(=O)NC(CC)C(=O)N(C)CC(=O)N(C)C(CC(C)C)C(=O)NC(C(C)C)C(=O)N(C)C(CC(C)C)C(=O)NC(C)C(=O)NC(C)C(=O)N(C)C(CC(C)C)C(=O)N(C)C(CC(C)C)C(=O)N(C)C(C(C)C)C(=O)N1C', None, None, None, None, None), (42708, 'CC(C)C(N)C(=O)O', 'CC(C)C(N)C(=O)O', None, None, None, None, None), (42660, 'NCCCCC(NC(=O)C1CCCN1C(=O)C1CSSCC(N)C(=O)NC(Cc2ccccc2)C(=O)NC(Cc2ccccc2)C(=O)NC(CCC(N)=O)C(=O)NC(CC(N)=O)C(=O)N1)C(=O)NCC(N)=O', 'NCCCCC(NC(=O)C1CCCN1C(=O)C1CSSCC(N)C(=O)NC(Cc2ccccc2)C(=O)NC(Cc2ccccc2)C(=O)NC(CCC(N)=O)C(=O)NC(CC(N)=O)C(=O)N1)C(=O)NCC(N)=O', None, None, None, None, None), (42661, 'CC(O)C(CO)NC(=O)C1CSSCC(NC(=O)C(N)Cc2ccccc2)C(=O)NC(Cc2ccccc2)C(=O)NC(Cc2c[nH]c3ccccc23)C(=O)NC(CCCCN)C(=O)NC(C(C)O)C(=O)N1', 'CC(O)C(CO)NC(=O)C1CSSCC(NC(=O)C(N)Cc2ccccc2)C(=O)NC(Cc2ccccc2)C(=O)NC(Cc2c[nH]c3ccccc23)C(=O)NC(CCCCN)C(=O)NC(C(C)O)C(=O)N1', None, None, None, None, None), (42662, 'Cc1ncc(COP(=O)(O)O)c(C=O)c1O', 'Cc1ncc(COP(=O)(O)O)c(C=O)c1O', None, None, None, None, None), (42663, 'CC1=C2N3=C(C=C4N5=C(C(C)=C6N7C8C(CC(N)=O)C6(C)CCC(=O)NCC(C)OP(=O)(O)OC6C(CO)OC(C6O)n6cn(c9cc(C)c(C)cc96)~[Co]7~5~3(C#N)~N3=C1C(CCC(N)=O)C(C)(CC(N)=O)C83C)C(CCC(N)=O)C4(C)C)C(CCC(N)=O)C2(C)CC(N)=O', None, None, None, None, None, None)]\n"
     ]
    }
   ],
   "source": [
    "cursor.execute(\"update drugbank.drugbank set molinstance = mol_from_smiles(smiles::cstring)\")\n",
    "cursor.execute(\"select * from drugbank.drugbank limit 10\")\n",
    "print(cursor.fetchall())"
   ]
  },
  {
   "cell_type": "markdown",
   "metadata": {},
   "source": [
    "## Fingerprint the created mol instances"
   ]
  },
  {
   "cell_type": "code",
   "execution_count": 63,
   "metadata": {
    "collapsed": false,
    "scrolled": true
   },
   "outputs": [
    {
     "name": "stdout",
     "output_type": "stream",
     "text": [
      "[(43842, '[Li+]', '[Li+]', '\\\\x00000000000000000000000000000000000000000000000000000000000000000000000000000000000000000000002000000000000000001000000000000000', None, None, None, None), (44344, 'O=CO', 'O=CO', '\\\\x00000000000000000000000000000000000400000000400000000000000000000000000080000001000000000000000800000000000000000000000000100000', None, None, None, None), (44469, 'NOCC(=O)O', 'NOCC(=O)O', '\\\\x00000000000400000000010000000000000408000010800000020000000000000000000080000000040000000000003021000000000000000000100000000000', None, None, None, None), (45086, 'c1cn[nH]c1', 'c1cn[nH]c1', '\\\\x00800000000000000100001402000000000000000004800000100000000000000000000001000000000402000000000400000000000000000000000004000000', None, None, None, None), (45451, 'CC(=O)[O-]', 'CC(=O)[O-]', '\\\\x000000000200000000000000000000000004000000000000000c0000000000000000020080000000000000000000002000000000000000000000000000000002', None, None, None, None), (45549, 'NC(=O)C(N)CS', 'NC(=O)C(N)CS', '\\\\x02000000000000000000010000004000001408000000001000000000200000000000040080000002020000000000002040000000000008000000004000000000', None, None, None, None), (45810, 'C[N+](CO)(CO)CO', 'C[N+](CO)(CO)CO', '\\\\x00000000020000000000010000001000000000000000000000000040000000000000000080000000000000000000000400000040000000000000004000800000', None, None, None, None), (46551, 'CC=CC=O', 'CC=CC=O', '\\\\x00000000020000000000081000004001000400000000400000000100000000000000000000000000001000000000000000000000000001000000000000100000', None, None, None, None), (46533, 'CN=N', 'CN=N', '\\\\x00000000020000000000000000800000000000000000000000002000040000000000000000004000000000000000000000000000008000000000000000000000', None, None, None, None), (46612, 'O[As](O)O', 'O[As](O)O', '\\\\x00000000010000000000000000000000004000000000000000000000000000000000000080000000000000100000000000000000000000000000000000000000', None, None, None, None)]\n"
     ]
    }
   ],
   "source": [
    "cursor.execute(\"update drugbank.drugbank set morganfp = morganbv_fp(molinstance)\")\n",
    "cursor.execute(\"select * from drugbank.drugbank limit 10\")\n",
    "print(cursor.fetchall())"
   ]
  },
  {
   "cell_type": "markdown",
   "metadata": {},
   "source": [
    "## Similarity search the fingerprints"
   ]
  },
  {
   "cell_type": "code",
   "execution_count": 64,
   "metadata": {
    "collapsed": false,
    "scrolled": true
   },
   "outputs": [
    {
     "name": "stdout",
     "output_type": "stream",
     "text": [
      "[(43479, 'CC(=O)Oc1ccccc1C(=O)O', 'CC(=O)Oc1ccccc1C(=O)O', '\\\\x00088000020000000100010000000000000400000080800002004000008000000000000080000000000002001000002024200000800004108001000000000002', None, None, None, None), (43868, 'O=C(Oc1ccccc1C(=O)O)c1ccccc1O', 'O=C(Oc1ccccc1C(=O)O)c1ccccc1O', '\\\\x00008000000000008500010000000001000402000080800802004000000000000000000080004000000002001000002024200000800084008001000000000000', None, None, None, None), (45076, 'O=C(O)c1ccccc1C(=O)O', 'O=C(O)c1ccccc1C(=O)O', '\\\\x00008000000000000100000000800000000400000080000000004000000000000000000080000000000002001000002020000000800000008001000000000000', None, None, None, None), (49281, 'CC(=O)Oc1cc(C(F)(F)F)ccc1C(=O)O', 'CC(=O)Oc1cc(C(F)(F)F)ccc1C(=O)O', '\\\\x00088000020800000810010000000400020400000000800002004000009000000000000080020000000002001008002020030000002004108001000000000402', None, None, None, None)]\n"
     ]
    }
   ],
   "source": [
    "cursor.execute(\"select * from drugbank.drugbank where morganfp%morganbv_fp('O=C(C)Oc1ccccc1C(=O)O'::mol)\") # aspirin\n",
    "print(cursor.fetchall())"
   ]
  },
  {
   "cell_type": "code",
   "execution_count": null,
   "metadata": {
    "collapsed": true
   },
   "outputs": [],
   "source": []
  },
  {
   "cell_type": "code",
   "execution_count": 65,
   "metadata": {
    "collapsed": false
   },
   "outputs": [
    {
     "name": "stdout",
     "output_type": "stream",
     "text": [
      "[(49501, '[Cl-].[Cl-].[Cl-].[Cr+3]', '[Cl-].[Cl-].[Cl-].[Cr+3]', '\\\\x00000000000008000000000000000000000000000000000000000000000000000000000000000000000400000000000000000000000000000000000000100000', 0, 0, 158.354995727539, -8.99050045013428), (49502, '[Cu+2]', '[Cu+2]', '\\\\x00000000000000000000000000000000000000000000000000000000000800000000000000000400000000000000000000000000000000000000000000000000', 0, 0, 63.5460014343262, -0.00249999994412065), (49503, 'Cl[Cu]Cl', 'Cl[Cu]Cl', '\\\\x00000000000000000000000000000000000008000000000000000000401000000000000000000000000000000000000000000000000000008000000000000000', 0, 0, 134.451995849609, 1.37650001049042), (42817, 'NCCc1ccn[nH]1', 'NCCc1ccn[nH]1', '\\\\x00080000001000080004010402000000000009004000000000004008000000000000000000000100000412081000001400000000000000000000200000000000', 3, 3, 111.148002624512, -0.0891000032424927), (44355, 'OCCCCO', 'OCCCCO', '\\\\x00000020000000000000010000040000000000000000000000000040000000000000000080000000000000000000800000000000000000000000000200000000', 2, 2, 90.1220016479492, -0.248799994587898), (44986, 'CCN=O', 'CCN=O', '\\\\x00000000020800000000010000000000000400000000200000002000000000000000000040000000000000000000000000000000000000000000080800000000', 2, 0, 59.068000793457, 0.772700011730194), (44689, 'CC(C)O', 'CC(C)O', '\\\\x02000000020000000000000000000000000000000000000020000000080000000000000880000000000000000000000000000000000000000000000000000000', 1, 1, 60.0960006713867, 0.387100011110306), (44805, 'O[Sb](O)O', 'O[Sb](O)O', '\\\\x00000000000800000000000000000000000000000000080200000000000000000000000080000000000000000000000000000000000000000000000000000000', 3, 3, 172.781005859375, -2.0518000125885), (45025, 'C=C(N)C(=O)O', 'C=C(N)C(=O)O', '\\\\x00000000000000000000000000000000001408000000000000000000000000000000100080000000008040000000002020000000000000400000000000000040', 3, 3, 87.0780029296875, -0.45660001039505), (45127, 'COCCO', 'COCCO', '\\\\x00200000020000000000010000000000000000000000800000000040000000000000000080000000000202020000000000000000000000000000000240200000', 2, 1, 76.0950012207031, -0.374900013208389)]\n"
     ]
    }
   ],
   "source": [
    "cursor.execute(\"update drugbank.drugbank set (hba, hbd, mw, logp) = (mol_hba(molinstance), mol_hbd(molinstance), mol_amw(molinstance), mol_logp(molinstance))\")\n",
    "cursor.execute(\"select * from drugbank.drugbank limit 10\")\n",
    "print(cursor.fetchall())"
   ]
  },
  {
   "cell_type": "markdown",
   "metadata": {},
   "source": [
    "## Extract info about various drug groups & insert it into the database"
   ]
  },
  {
   "cell_type": "code",
   "execution_count": 34,
   "metadata": {
    "collapsed": false
   },
   "outputs": [],
   "source": [
    "grouplists = (mol.GetProp('DRUG_GROUPS').split('; ') for mol in mols)\n",
    "groupnames = set()\n",
    "for grouplist in grouplists:\n",
    "    groupnames.update(grouplist)\n",
    "cursor.execute(\"delete from drugbank.druggroup\") # in case there are old values\n",
    "query = \"insert into drugbank.druggroup (groupname) values %s\" % (', '.join([\"('%s')\" % (groupname)\n",
    "                                                                             for groupname in groupnames]))\n",
    "cursor.execute(query)"
   ]
  },
  {
   "cell_type": "markdown",
   "metadata": {},
   "source": [
    "## Check that it got into the database & get the database-generated ID's"
   ]
  },
  {
   "cell_type": "code",
   "execution_count": 30,
   "metadata": {
    "collapsed": false
   },
   "outputs": [
    {
     "name": "stdout",
     "output_type": "stream",
     "text": [
      "[(1, 'vet_approved'), (2, 'approved'), (3, 'nutraceutical'), (4, 'illicit'), (5, 'investigational'), (6, 'withdrawn'), (7, 'experimental')]\n",
      "{'vet_approved': 1, 'approved': 2, 'nutraceutical': 3, 'illicit': 4, 'investigational': 5, 'withdrawn': 6, 'experimental': 7}\n"
     ]
    }
   ],
   "source": [
    "cursor.execute(\"select * from drugbank.druggroup\")\n",
    "ids_groupnames = cursor.fetchall()\n",
    "print(ids_groupnames)\n",
    "groupname2id = { groupname:gid for gid, groupname in ids_groupnames}\n",
    "print(groupname2id)"
   ]
  },
  {
   "cell_type": "code",
   "execution_count": null,
   "metadata": {
    "collapsed": true
   },
   "outputs": [],
   "source": []
  },
  {
   "cell_type": "markdown",
   "metadata": {},
   "source": [
    "## Let's not be messy :)"
   ]
  },
  {
   "cell_type": "code",
   "execution_count": 11,
   "metadata": {
    "collapsed": false
   },
   "outputs": [],
   "source": [
    "cursor.close()\n",
    "connection.close()"
   ]
  },
  {
   "cell_type": "code",
   "execution_count": null,
   "metadata": {
    "collapsed": true
   },
   "outputs": [],
   "source": []
  }
 ],
 "metadata": {
  "kernelspec": {
   "display_name": "Python 3",
   "language": "python",
   "name": "python3"
  },
  "language_info": {
   "codemirror_mode": {
    "name": "ipython",
    "version": 3
   },
   "file_extension": ".py",
   "mimetype": "text/x-python",
   "name": "python",
   "nbconvert_exporter": "python",
   "pygments_lexer": "ipython3",
   "version": "3.4.5"
  }
 },
 "nbformat": 4,
 "nbformat_minor": 2
}
