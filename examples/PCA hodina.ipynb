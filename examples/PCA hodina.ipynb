{
 "cells": [
  {
   "cell_type": "code",
   "execution_count": 42,
   "metadata": {
    "collapsed": false
   },
   "outputs": [],
   "source": [
    "from rdkit.Chem import AllChem as ch\n",
    "from rdkit.Chem import Draw as d\n",
    "from rdkit import DataStructs\n",
    "\n",
    "from matplotlib.mlab import PCA\n",
    "import matplotlib.pyplot as plt\n",
    "\n",
    "import numpy as np\n",
    "import pandas as pd\n",
    "\n",
    "import lipinski as lip"
   ]
  },
  {
   "cell_type": "code",
   "execution_count": 3,
   "metadata": {
    "collapsed": true
   },
   "outputs": [],
   "source": [
    "suppl = ch.SDMolSupplier('../data/drugbank.sdf')\n",
    "mols = [x for x in suppl if x is not None]"
   ]
  },
  {
   "cell_type": "code",
   "execution_count": 7,
   "metadata": {
    "collapsed": true
   },
   "outputs": [],
   "source": [
    "data=[]\n",
    "for mol in mols:\n",
    "    data.append([mol.GetProp(\"DRUGBANK_ID\"), lip.num_hydrogen_bond_acceptors(mol),\n",
    "                 lip.num_hydrogen_bond_donors(mol), lip.MW(mol), lip.logP(mol), lip.TPSA(mol),\n",
    "                 lip.num_rotatable_bonds(mol)])"
   ]
  },
  {
   "cell_type": "code",
   "execution_count": 8,
   "metadata": {
    "collapsed": false
   },
   "outputs": [
    {
     "data": {
      "text/plain": [
       "['DB00006',\n",
       " 57,\n",
       " 31,\n",
       " 2180.316999999999,\n",
       " -8.116429999999927,\n",
       " 901.5700000000003,\n",
       " 66]"
      ]
     },
     "execution_count": 8,
     "metadata": {},
     "output_type": "execute_result"
    }
   ],
   "source": [
    "data[0]"
   ]
  },
  {
   "cell_type": "code",
   "execution_count": 31,
   "metadata": {
    "collapsed": false
   },
   "outputs": [],
   "source": [
    "dataframe = pd.DataFrame(data,columns=[\"DRUGBANK_ID\",\"HBA\", \"HBD\", \"MW\", \"logP\", \"TPSA\", \"RBs\"])\n",
    "dataframe.set_index(\"DRUGBANK_ID\", inplace=True)\n",
    "#dataframe"
   ]
  },
  {
   "cell_type": "code",
   "execution_count": 38,
   "metadata": {
    "collapsed": false
   },
   "outputs": [],
   "source": [
    "pca1 = PCA(dataframe,standardize=True)"
   ]
  },
  {
   "cell_type": "code",
   "execution_count": null,
   "metadata": {
    "collapsed": false
   },
   "outputs": [],
   "source": []
  },
  {
   "cell_type": "code",
   "execution_count": 40,
   "metadata": {
    "collapsed": false
   },
   "outputs": [
    {
     "data": {
      "text/plain": [
       "array([[-17.03988171,  -1.68147809,  -1.35472279,  -0.19282218,\n",
       "          0.04609584,  -0.05548904],\n",
       "       [ -8.54453107,  -0.49460757,  -0.10513902,   0.60426561,\n",
       "         -0.14126358,   0.1553156 ],\n",
       "       [ -6.73497633,   0.58493872,   0.54553025,   0.71131845,\n",
       "         -0.34232777,  -0.02733786],\n",
       "       ..., \n",
       "       [ -5.49805579,  -0.91558863,   1.58836586,   0.28098528,\n",
       "          0.19734591,   0.04734048],\n",
       "       [  0.07056291,  -0.10106396,  -1.12333729,  -0.85381279,\n",
       "         -0.10205555,  -0.15185745],\n",
       "       [  0.80544793,  -0.44619835,   0.45607489,  -0.14452606,\n",
       "         -0.22849359,  -0.15503855]])"
      ]
     },
     "execution_count": 40,
     "metadata": {},
     "output_type": "execute_result"
    }
   ],
   "source": [
    "pca1.Y"
   ]
  },
  {
   "cell_type": "code",
   "execution_count": 72,
   "metadata": {
    "collapsed": false
   },
   "outputs": [],
   "source": [
    "fig = plt.figure()\n",
    "X = [x[0] for x in pca1.Y]\n",
    "Y = [y[1] for y in pca1.Y]\n",
    "plt.scatter(X,Y)\n",
    "labels=zip([mol.GetProp(\"GENERIC_NAME\") for mol in mols], X,Y)\n",
    "for l in labels:\n",
    "    if l[1]<-20:\n",
    "        plt.annotate(l[0], (l[1], l[2]))\n",
    "#plt.annotate(\"Ahoj\",(-10,-10))"
   ]
  },
  {
   "cell_type": "code",
   "execution_count": 70,
   "metadata": {
    "collapsed": false
   },
   "outputs": [
    {
     "data": {
      "image/png": "[encoded data removed]",
      "text/plain": [
       "<matplotlib.figure.Figure at 0x7ff9157ad4e0>"
      ]
     },
     "execution_count": 70,
     "metadata": {},
     "output_type": "execute_result"
    }
   ],
   "source": [
    "fig"
   ]
  },
  {
   "cell_type": "code",
   "execution_count": 68,
   "metadata": {
    "collapsed": false,
    "scrolled": true
   },
   "outputs": [
    {
     "data": {
      "text/plain": [
       "array([ 32193.21471353,   7538.58757945,   1524.17366834,   1006.68928736,\n",
       "          342.36547046,     48.96928085])"
      ]
     },
     "execution_count": 68,
     "metadata": {},
     "output_type": "execute_result"
    }
   ],
   "source": [
    "pca1.s"
   ]
  },
  {
   "cell_type": "code",
   "execution_count": null,
   "metadata": {
    "collapsed": true
   },
   "outputs": [],
   "source": []
  }
 ],
 "metadata": {
  "kernelspec": {
   "display_name": "Python 3",
   "language": "python",
   "name": "python3"
  },
  "language_info": {
   "codemirror_mode": {
    "name": "ipython",
    "version": 3
   },
   "file_extension": ".py",
   "mimetype": "text/x-python",
   "name": "python",
   "nbconvert_exporter": "python",
   "pygments_lexer": "ipython3",
   "version": "3.4.5"
  }
 },
 "nbformat": 4,
 "nbformat_minor": 2
}
