{
 "cells": [
  {
   "cell_type": "code",
   "execution_count": 21,
   "metadata": {
    "collapsed": false
   },
   "outputs": [],
   "source": [
    "from rdkit.Chem import AllChem as ch\n",
    "from rdkit.Chem import Draw as d\n",
    "from rdkit import DataStructs\n",
    "from rdkit.SimDivFilters.rdSimDivPickers import MaxMinPicker\n",
    "from rdkit.Chem import Descriptors\n",
    "from rdkit.Chem import rdMolDescriptors as rdescriptors"
   ]
  },
  {
   "cell_type": "code",
   "execution_count": 2,
   "metadata": {
    "collapsed": false
   },
   "outputs": [],
   "source": [
    "suppl = ch.SDMolSupplier('../data/drugbank.sdf')\n",
    "organic_carbon = ch.MolFromSmarts('[#6]')\n",
    "mols = [x for x in suppl if x is not None and x.HasSubstructMatch(organic_carbon)]"
   ]
  },
  {
   "cell_type": "code",
   "execution_count": 3,
   "metadata": {
    "collapsed": true
   },
   "outputs": [],
   "source": [
    "mols_fps = [(m, ch.GetMorganFingerprint(m, 2)) for m in mols]"
   ]
  },
  {
   "cell_type": "code",
   "execution_count": 4,
   "metadata": {
    "collapsed": true
   },
   "outputs": [],
   "source": [
    "picker = MaxMinPicker()"
   ]
  },
  {
   "cell_type": "code",
   "execution_count": 5,
   "metadata": {
    "collapsed": true
   },
   "outputs": [],
   "source": [
    "def fp_distance(i, j, mols_fps=mols_fps):\n",
    "    return 1 - DataStructs.TanimotoSimilarity(mols_fps[i][1],\n",
    "                                              mols_fps[j][1])"
   ]
  },
  {
   "cell_type": "code",
   "execution_count": 6,
   "metadata": {
    "collapsed": false
   },
   "outputs": [],
   "source": [
    "pickIndices = picker.LazyPick(fp_distance, len(mols_fps), 200, seed=666)"
   ]
  },
  {
   "cell_type": "code",
   "execution_count": 7,
   "metadata": {
    "collapsed": false
   },
   "outputs": [],
   "source": [
    "filtered_mols_fps = [mols_fps[i] for i in pickIndices]\n",
    "result = filtered_mols_fps"
   ]
  },
  {
   "cell_type": "code",
   "execution_count": 16,
   "metadata": {
    "collapsed": false
   },
   "outputs": [],
   "source": [
    "def num_hydrogen_bond_acceptors(mol):\n",
    "    return rdescriptors.CalcNumLipinskiHBA(mol)\n",
    "\n",
    "def num_hydrogen_bond_donors(mol):\n",
    "    return rdescriptors.CalcNumLipinskiHBD(mol)\n",
    "\n",
    "def MW(mol):\n",
    "    return Descriptors.MolWt(mol)\n",
    "\n",
    "def logP(mol):\n",
    "    return Descriptors.MolLogP(mol)\n",
    "\n",
    "def TPSA(mol):\n",
    "    return Descriptors.TPSA(mol)\n",
    "\n",
    "def num_rotatable_bonds(mol):\n",
    "    return Descriptors.NumRotatableBonds(mol)\n",
    "\n",
    "def num_heavy_atoms(mol):\n",
    "    return mol.GetNumHeavyAtoms()"
   ]
  },
  {
   "cell_type": "code",
   "execution_count": 22,
   "metadata": {
    "collapsed": false
   },
   "outputs": [],
   "source": [
    "prep_data = [(m, num_hydrogen_bond_acceptors(m), num_hydrogen_bond_donors(m), MW(m),logP(m),TPSA(m),num_rotatable_bonds(m),num_heavy_atoms(m)) for m, fp in result]"
   ]
  },
  {
   "cell_type": "code",
   "execution_count": 23,
   "metadata": {
    "collapsed": false
   },
   "outputs": [
    {
     "data": {
      "text/plain": [
       "(<rdkit.Chem.rdchem.Mol at 0x7f5e7665f8f0>,\n",
       " 6,\n",
       " 4,\n",
       " 294.742,\n",
       " 1.5508999999999993,\n",
       " 84.41,\n",
       " 2,\n",
       " 20)"
      ]
     },
     "execution_count": 23,
     "metadata": {},
     "output_type": "execute_result"
    }
   ],
   "source": [
    "prep_data[0]"
   ]
  },
  {
   "cell_type": "code",
   "execution_count": 30,
   "metadata": {
    "collapsed": true
   },
   "outputs": [],
   "source": [
    "out = open(\"../out/lipinski.csv\",\"w\")\n",
    "out.write(\"name,HA,HD,mw,lp,tpsa,rb,ha\\n\")\n",
    "for m, HA, HD,mw, lp, tpsa, rb, ha in prep_data:\n",
    "    out.write(\"%s,%d,%d,%f,%f,%f,%d,%d\\n\" % (m.GetProp(\"DRUGBANK_ID\"), HA, HD,mw, lp, tpsa, rb, ha))\n",
    "out.close()"
   ]
  },
  {
   "cell_type": "code",
   "execution_count": 35,
   "metadata": {
    "collapsed": false
   },
   "outputs": [],
   "source": [
    "out = open(\"../out/lipinski_metadata.csv\",\"w\")\n",
    "out.write(\"name,smiles\\n\")\n",
    "for m in prep_data:\n",
    "    out.write(\"%s,%s\\n\" % (m[0].GetProp(\"DRUGBANK_ID\"), ch.MolToSmiles(m[0])))\n",
    "out.close()"
   ]
  },
  {
   "cell_type": "markdown",
   "metadata": {
    "collapsed": true
   },
   "source": [
    "Pro spuštění shlukování pusťte v prostředí inchlib něco podobného jako\n",
    "http://www.openscreen.cz/software/inchlib/home/:\n",
    "python inchlib_clust.py ../out/lipinski.csv -dh -n -html ../out/clust/"
   ]
  },
  {
   "cell_type": "code",
   "execution_count": null,
   "metadata": {
    "collapsed": true
   },
   "outputs": [],
   "source": []
  }
 ],
 "metadata": {
  "kernelspec": {
   "display_name": "Python 3",
   "language": "python",
   "name": "python3"
  },
  "language_info": {
   "codemirror_mode": {
    "name": "ipython",
    "version": 3
   },
   "file_extension": ".py",
   "mimetype": "text/x-python",
   "name": "python",
   "nbconvert_exporter": "python",
   "pygments_lexer": "ipython3",
   "version": "3.4.5"
  }
 },
 "nbformat": 4,
 "nbformat_minor": 0
}
