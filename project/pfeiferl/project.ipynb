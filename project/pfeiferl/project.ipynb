{
 "cells": [
  {
   "cell_type": "code",
   "execution_count": 2,
   "metadata": {
    "collapsed": true
   },
   "outputs": [],
   "source": [
    "from rdkit.Chem import Descriptors\n",
    "from rdkit.Chem import AllChem as ch\n",
    "from rdkit.Chem import Draw as d\n",
    "from rdkit import DataStructs\n",
    "import pandas as pd\n",
    "from rdkit.Chem import rdMolDescriptors as rdescriptors\n",
    "from matplotlib.mlab import PCA\n",
    "import matplotlib.pyplot as plt\n",
    "import csv\n",
    "from rdkit.SimDivFilters.rdSimDivPickers import MaxMinPicker\n",
    "\n",
    "import sklearn\n",
    "from rdkit.Chem import PandasTools, Descriptors, MolFromSmiles\n",
    "from pandas import DataFrame\n",
    "from sklearn.model_selection import train_test_split\n",
    "\n",
    "from sklearn import svm\n",
    "import numpy as np\n",
    "from sklearn.metrics import mean_squared_error\n",
    "import matplotlib.pyplot as plt"
   ]
  },
  {
   "cell_type": "code",
   "execution_count": 3,
   "metadata": {
    "collapsed": false
   },
   "outputs": [],
   "source": [
    "with open ('bioac.csv', 'r') as f:\n",
    "    conntent = list((csv.reader(f, delimiter = '\\t')))\n"
   ]
  },
  {
   "cell_type": "code",
   "execution_count": 4,
   "metadata": {
    "collapsed": false
   },
   "outputs": [],
   "source": [
    "names = []\n",
    "\n",
    "for i in range(1,len(conntent)):\n",
    "    m = conntent[i][0]\n",
    "    names.append(m)"
   ]
  },
  {
   "cell_type": "code",
   "execution_count": 5,
   "metadata": {
    "collapsed": true
   },
   "outputs": [],
   "source": [
    "smiles = []\n",
    "for i in range(1,len(conntent)):\n",
    "    m = conntent[i][1]\n",
    "    smiles.append(m)"
   ]
  },
  {
   "cell_type": "code",
   "execution_count": 6,
   "metadata": {
    "collapsed": false
   },
   "outputs": [],
   "source": [
    "mols = []\n",
    "\n",
    "for i in range(1,len(conntent)):\n",
    "    m = ch.MolFromSmiles(conntent[i][1])\n",
    "    mols.append(m)"
   ]
  },
  {
   "cell_type": "code",
   "execution_count": 7,
   "metadata": {
    "collapsed": false
   },
   "outputs": [],
   "source": [
    "activity = []\n",
    "\n",
    "for i in range(1,len(conntent)):\n",
    "    m = conntent[i][3]\n",
    "    activity.append(m)"
   ]
  },
  {
   "cell_type": "code",
   "execution_count": 8,
   "metadata": {
    "collapsed": true
   },
   "outputs": [],
   "source": [
    "def num_hydrogen_bond_acceptors(mol):\n",
    "    return rdescriptors.CalcNumLipinskiHBA(mol)"
   ]
  },
  {
   "cell_type": "code",
   "execution_count": 9,
   "metadata": {
    "collapsed": true
   },
   "outputs": [],
   "source": [
    "def num_hydrogen_bond_donors(mol):\n",
    "    return rdescriptors.CalcNumLipinskiHBD(mol)"
   ]
  },
  {
   "cell_type": "code",
   "execution_count": 10,
   "metadata": {
    "collapsed": true
   },
   "outputs": [],
   "source": [
    "def MW(mol):\n",
    "    return Descriptors.MolWt(mol)"
   ]
  },
  {
   "cell_type": "code",
   "execution_count": 11,
   "metadata": {
    "collapsed": true
   },
   "outputs": [],
   "source": [
    "def TPSA(mol):\n",
    "    return Descriptors.TPSA(mol)"
   ]
  },
  {
   "cell_type": "code",
   "execution_count": 12,
   "metadata": {
    "collapsed": true
   },
   "outputs": [],
   "source": [
    "def logP(mol):\n",
    "    return Descriptors.MolLogP(mol)"
   ]
  },
  {
   "cell_type": "code",
   "execution_count": 13,
   "metadata": {
    "collapsed": false
   },
   "outputs": [],
   "source": [
    "data=[]\n",
    "for i,mol in enumerate(mols):\n",
    "    data.append([names[i], float(activity[i]), num_hydrogen_bond_acceptors(mol), num_hydrogen_bond_donors(mol), MW(mol), logP(mol),TPSA(mol)])"
   ]
  },
  {
   "cell_type": "code",
   "execution_count": null,
   "metadata": {
    "collapsed": true
   },
   "outputs": [],
   "source": []
  },
  {
   "cell_type": "code",
   "execution_count": null,
   "metadata": {
    "collapsed": true
   },
   "outputs": [],
   "source": [
    "###############PCA#######################################################"
   ]
  },
  {
   "cell_type": "code",
   "execution_count": 14,
   "metadata": {
    "collapsed": false
   },
   "outputs": [],
   "source": [
    "dataframe=pd.DataFrame(data,columns=[\"CHEMBL_ID\", \"activity\", \"HBA\", \"HBD\", \"MW\", \"logP\", \"TPSA\"])\n",
    "dataframe.set_index(\"CHEMBL_ID\",inplace=True)"
   ]
  },
  {
   "cell_type": "code",
   "execution_count": 15,
   "metadata": {
    "collapsed": false
   },
   "outputs": [],
   "source": [
    "pca1=PCA(dataframe)"
   ]
  },
  {
   "cell_type": "code",
   "execution_count": 16,
   "metadata": {
    "collapsed": false
   },
   "outputs": [],
   "source": [
    "plt.rcParams[\"figure.figsize\"] = [10, 10]\n",
    "#fig = plt.figure()\n",
    "X = [x[0] for x in pca1.Y]\n",
    "Y = [y[1] for y in pca1.Y]\n",
    "plt.scatter(X,Y)\n",
    "labels = zip(names, X,Y)\n",
    "for l in labels:\n",
    "    if l[1]<-3:\n",
    "        plt.annotate(l[0], (l[1], l[2]))"
   ]
  },
  {
   "cell_type": "code",
   "execution_count": 17,
   "metadata": {
    "collapsed": false
   },
   "outputs": [
    {
     "data": {
      "image/png": "[encoded data removed]",
      "text/plain": [
       "<matplotlib.figure.Figure at 0x7faed20f0b38>"
      ]
     },
     "metadata": {},
     "output_type": "display_data"
    }
   ],
   "source": [
    "plt.show()"
   ]
  },
  {
   "cell_type": "code",
   "execution_count": null,
   "metadata": {
    "collapsed": true
   },
   "outputs": [],
   "source": []
  },
  {
   "cell_type": "code",
   "execution_count": null,
   "metadata": {
    "collapsed": false
   },
   "outputs": [],
   "source": [
    "#######################CLUSTER###########################################"
   ]
  },
  {
   "cell_type": "code",
   "execution_count": 18,
   "metadata": {
    "collapsed": true
   },
   "outputs": [],
   "source": [
    "id = list(range(len(conntent)))"
   ]
  },
  {
   "cell_type": "code",
   "execution_count": 19,
   "metadata": {
    "collapsed": true
   },
   "outputs": [],
   "source": [
    "mols_fps = [(m, ch.GetMorganFingerprint(m,2)) for m in mols]"
   ]
  },
  {
   "cell_type": "code",
   "execution_count": 20,
   "metadata": {
    "collapsed": true
   },
   "outputs": [],
   "source": [
    "def fp_distance(i,j,mols_fps=mols_fps):\n",
    "    return 1 - DataStructs.TanimotoSimilarity(mols_fps[i][1],mols_fps[j][1])"
   ]
  },
  {
   "cell_type": "code",
   "execution_count": 21,
   "metadata": {
    "collapsed": false
   },
   "outputs": [],
   "source": [
    "picker = MaxMinPicker()"
   ]
  },
  {
   "cell_type": "code",
   "execution_count": 22,
   "metadata": {
    "collapsed": true
   },
   "outputs": [],
   "source": [
    "pickIndices = picker.LazyPick(fp_distance, len(mols_fps), 200, seed=42)"
   ]
  },
  {
   "cell_type": "code",
   "execution_count": 23,
   "metadata": {
    "collapsed": true
   },
   "outputs": [],
   "source": [
    "picked = [mols[i] for i in pickIndices] "
   ]
  },
  {
   "cell_type": "code",
   "execution_count": 24,
   "metadata": {
    "collapsed": true
   },
   "outputs": [],
   "source": [
    "data=[]\n",
    "for i,mol in enumerate(picked):\n",
    "    data.append([names[i],activity[i], num_hydrogen_bond_acceptors(mol), num_hydrogen_bond_donors(mol), MW(mol), logP(mol),TPSA(mol)])"
   ]
  },
  {
   "cell_type": "code",
   "execution_count": 43,
   "metadata": {
    "collapsed": false
   },
   "outputs": [],
   "source": [
    "j=0\n",
    "out = open(\"input_file.csv\", \"w\")\n",
    "out.write(\"ID,CHEMBL_ID,HBA,HBD,MW,logP,TPSA\\n\")\n",
    "        \n",
    "for i in range(0,len(data)):\n",
    "    out.write('molekula_id'+str(id[i]) + ','+ str(data[i][j+2]) + ',' + str(data[i][j+3]) + ','\n",
    "              + str(data[i][j+4]) + ',' + str(data[i][j+5]) + ',' + str(data[i][j+6]) + '\\n')\n",
    "    \n",
    "out.close()"
   ]
  },
  {
   "cell_type": "code",
   "execution_count": 44,
   "metadata": {
    "collapsed": true
   },
   "outputs": [],
   "source": [
    "\n",
    "out = open(\"lipinski_metadata2.csv\", \"w\")\n",
    "out.write(\"ID,activity\\n\")\n",
    "        \n",
    "for i in range(0,len(data)):\n",
    "    out.write('molekula_id'+str(id[i]) + ',' + str(activity[i]) + '\\n')\n",
    "    \n",
    "out.close()"
   ]
  },
  {
   "cell_type": "code",
   "execution_count": 45,
   "metadata": {
    "collapsed": false
   },
   "outputs": [],
   "source": [
    "for i in range(len(mols)):\n",
    "    d.MolToFile(mols[i], \"molekula_id\" +str(id[i])+ \".png\")"
   ]
  },
  {
   "cell_type": "code",
   "execution_count": null,
   "metadata": {
    "collapsed": false
   },
   "outputs": [],
   "source": []
  },
  {
   "cell_type": "code",
   "execution_count": null,
   "metadata": {
    "collapsed": true
   },
   "outputs": [],
   "source": [
    "#######################PRED_ACTIVITY################################"
   ]
  },
  {
   "cell_type": "code",
   "execution_count": 26,
   "metadata": {
    "collapsed": false
   },
   "outputs": [],
   "source": [
    "id = list(range(len(conntent)))"
   ]
  },
  {
   "cell_type": "code",
   "execution_count": 27,
   "metadata": {
    "collapsed": false
   },
   "outputs": [],
   "source": [
    "data2 = []\n",
    "for i in range(len(conntent)-1):\n",
    "    data2.append([id[i], smiles[i], float(activity[i])])"
   ]
  },
  {
   "cell_type": "code",
   "execution_count": 28,
   "metadata": {
    "collapsed": false
   },
   "outputs": [
    {
     "data": {
      "text/plain": [
       "[[0,\n",
       "  'O=C(CCSC1=NC2=C(CCCC2)C(=O)N1)N[C@@H]3CC[C@H](CC3)c4oc(nn4)c5ccccc5',\n",
       "  2.5],\n",
       " [1, 'Oc1nc(nc2CCSCc12)c3ccc(cc3)C(F)(F)F', 4.0],\n",
       " [2, 'Oc1nc(nc2CCSCc12)c3ccc(cc3)C(F)(F)F', 5.0],\n",
       " [3, 'O=C(CCC1CCCCC1)Nc2nnc3SCCn23', 8.0],\n",
       " [4, 'Fc1ccc(cc1)C(=O)C2CCN(CC(=O)N(CC3CC3)CC4=NC5=C(COCC5)C(=O)N4)CC2', 11.0]]"
      ]
     },
     "execution_count": 28,
     "metadata": {},
     "output_type": "execute_result"
    }
   ],
   "source": [
    "data2[:5]"
   ]
  },
  {
   "cell_type": "code",
   "execution_count": 29,
   "metadata": {
    "collapsed": false
   },
   "outputs": [],
   "source": [
    "data3 = DataFrame(data2, columns=[\"id\",\"smi\",\"ic50\"]) \n",
    "data3.set_index(\"id\", inplace=True)"
   ]
  },
  {
   "cell_type": "code",
   "execution_count": 30,
   "metadata": {
    "collapsed": true
   },
   "outputs": [],
   "source": [
    "desc_list = Descriptors.descList"
   ]
  },
  {
   "cell_type": "code",
   "execution_count": 31,
   "metadata": {
    "collapsed": false
   },
   "outputs": [],
   "source": [
    "data3[\"pic50\"] = data3.ic50.apply(lambda x : -1.0 * np.log10(x / 1.0e9))#novy sloupec s zaporne dek IC50\n",
    "for desc_name, function in desc_list:\n",
    "    values = []\n",
    "    for smiles in data3[\"smi\"]:\n",
    "        mol = MolFromSmiles(smiles)\n",
    "        values.append(function(mol))\n",
    "    data3[desc_name] = values"
   ]
  },
  {
   "cell_type": "code",
   "execution_count": 32,
   "metadata": {
    "collapsed": true
   },
   "outputs": [],
   "source": [
    "columns = [x[0] for x in desc_list[:30]] #pouze 30, omezit"
   ]
  },
  {
   "cell_type": "code",
   "execution_count": 33,
   "metadata": {
    "collapsed": true
   },
   "outputs": [],
   "source": [
    "train_data, test_data = train_test_split(data3)"
   ]
  },
  {
   "cell_type": "code",
   "execution_count": 34,
   "metadata": {
    "collapsed": false
   },
   "outputs": [
    {
     "data": {
      "text/plain": [
       "RandomForestRegressor(bootstrap=True, criterion='mse', max_depth=None,\n",
       "           max_features='auto', max_leaf_nodes=None,\n",
       "           min_impurity_split=1e-07, min_samples_leaf=1,\n",
       "           min_samples_split=2, min_weight_fraction_leaf=0.0,\n",
       "           n_estimators=10, n_jobs=1, oob_score=False, random_state=None,\n",
       "           verbose=0, warm_start=False)"
      ]
     },
     "execution_count": 34,
     "metadata": {},
     "output_type": "execute_result"
    }
   ],
   "source": [
    "from sklearn.ensemble import RandomForestRegressor\n",
    "model2 = RandomForestRegressor()\n",
    "model2.fit(train_data[columns], train_data[\"pic50\"])"
   ]
  },
  {
   "cell_type": "code",
   "execution_count": 35,
   "metadata": {
    "collapsed": false
   },
   "outputs": [
    {
     "data": {
      "image/png": "[encoded data removed]",
      "text/plain": [
       "<matplotlib.figure.Figure at 0x7faece434d68>"
      ]
     },
     "metadata": {},
     "output_type": "display_data"
    }
   ],
   "source": [
    "plt.rcParams[\"figure.figsize\"] = [15, 15]\n",
    "span = (1,12)\n",
    "axes = plt.gca()\n",
    "axes.set_xlim(span)\n",
    "axes.set_ylim(span)\n",
    "\n",
    "plt.plot((span[0],span[1]), (span[0],span[1]), linestyle='--')\n",
    "\n",
    "#graficky overit\n",
    "plt.scatter(\n",
    "    test_data[\"pic50\"]\n",
    "    , model2.predict(test_data[columns])\n",
    "    , c='blue'\n",
    "    , s=20\n",
    ")\n",
    "plt.show()"
   ]
  },
  {
   "cell_type": "code",
   "execution_count": 36,
   "metadata": {
    "collapsed": false
   },
   "outputs": [
    {
     "data": {
      "image/png": "[encoded data removed]",
      "text/plain": [
       "<matplotlib.figure.Figure at 0x7faece491780>"
      ]
     },
     "metadata": {},
     "output_type": "display_data"
    }
   ],
   "source": [
    "errors = (test_data.pic50 - model2.predict(test_data[columns])).abs()\n",
    "weights = np.ones_like(errors) / len(errors)\n",
    "plt.hist(errors, weights=weights, bins=30)\n",
    "plt.show()"
   ]
  },
  {
   "cell_type": "code",
   "execution_count": 37,
   "metadata": {
    "collapsed": false
   },
   "outputs": [
    {
     "name": "stdout",
     "output_type": "stream",
     "text": [
      "(220, 196) (74, 196)\n"
     ]
    },
    {
     "data": {
      "text/html": [
       "<div>\n",
       "<table border=\"1\" class=\"dataframe\">\n",
       "  <thead>\n",
       "    <tr style=\"text-align: right;\">\n",
       "      <th></th>\n",
       "      <th>MaxEStateIndex</th>\n",
       "      <th>MinAbsEStateIndex</th>\n",
       "      <th>MinPartialCharge</th>\n",
       "      <th>MinAbsPartialCharge</th>\n",
       "      <th>MolWt</th>\n",
       "      <th>NumValenceElectrons</th>\n",
       "      <th>MaxAbsPartialCharge</th>\n",
       "      <th>MaxPartialCharge</th>\n",
       "      <th>MinEStateIndex</th>\n",
       "      <th>MaxAbsEStateIndex</th>\n",
       "      <th>...</th>\n",
       "      <th>fr_sulfide</th>\n",
       "      <th>fr_sulfonamd</th>\n",
       "      <th>fr_sulfone</th>\n",
       "      <th>fr_term_acetylene</th>\n",
       "      <th>fr_tetrazole</th>\n",
       "      <th>fr_thiazole</th>\n",
       "      <th>fr_thiocyan</th>\n",
       "      <th>fr_thiophene</th>\n",
       "      <th>fr_unbrch_alkane</th>\n",
       "      <th>fr_urea</th>\n",
       "    </tr>\n",
       "    <tr>\n",
       "      <th>id</th>\n",
       "      <th></th>\n",
       "      <th></th>\n",
       "      <th></th>\n",
       "      <th></th>\n",
       "      <th></th>\n",
       "      <th></th>\n",
       "      <th></th>\n",
       "      <th></th>\n",
       "      <th></th>\n",
       "      <th></th>\n",
       "      <th></th>\n",
       "      <th></th>\n",
       "      <th></th>\n",
       "      <th></th>\n",
       "      <th></th>\n",
       "      <th></th>\n",
       "      <th></th>\n",
       "      <th></th>\n",
       "      <th></th>\n",
       "      <th></th>\n",
       "      <th></th>\n",
       "    </tr>\n",
       "  </thead>\n",
       "  <tbody>\n",
       "    <tr>\n",
       "      <th>272</th>\n",
       "      <td>0.165183</td>\n",
       "      <td>-0.715860</td>\n",
       "      <td>0.502416</td>\n",
       "      <td>-0.182170</td>\n",
       "      <td>-0.735797</td>\n",
       "      <td>-0.586405</td>\n",
       "      <td>-0.553927</td>\n",
       "      <td>-0.218696</td>\n",
       "      <td>0.338907</td>\n",
       "      <td>0.165183</td>\n",
       "      <td>...</td>\n",
       "      <td>-0.632456</td>\n",
       "      <td>0.0</td>\n",
       "      <td>-0.117444</td>\n",
       "      <td>0.0</td>\n",
       "      <td>0.0</td>\n",
       "      <td>0.0</td>\n",
       "      <td>0.0</td>\n",
       "      <td>-0.27735</td>\n",
       "      <td>-0.101535</td>\n",
       "      <td>-0.231869</td>\n",
       "    </tr>\n",
       "    <tr>\n",
       "      <th>113</th>\n",
       "      <td>-3.150479</td>\n",
       "      <td>2.873322</td>\n",
       "      <td>-1.246391</td>\n",
       "      <td>-0.516643</td>\n",
       "      <td>1.362647</td>\n",
       "      <td>1.257795</td>\n",
       "      <td>1.211976</td>\n",
       "      <td>-0.511787</td>\n",
       "      <td>0.814913</td>\n",
       "      <td>-3.150479</td>\n",
       "      <td>...</td>\n",
       "      <td>1.581139</td>\n",
       "      <td>0.0</td>\n",
       "      <td>-0.117444</td>\n",
       "      <td>0.0</td>\n",
       "      <td>0.0</td>\n",
       "      <td>0.0</td>\n",
       "      <td>0.0</td>\n",
       "      <td>-0.27735</td>\n",
       "      <td>-0.101535</td>\n",
       "      <td>-0.231869</td>\n",
       "    </tr>\n",
       "    <tr>\n",
       "      <th>132</th>\n",
       "      <td>0.190776</td>\n",
       "      <td>-0.693112</td>\n",
       "      <td>0.502416</td>\n",
       "      <td>-0.182170</td>\n",
       "      <td>-0.580221</td>\n",
       "      <td>-0.407934</td>\n",
       "      <td>-0.553927</td>\n",
       "      <td>-0.218696</td>\n",
       "      <td>0.330537</td>\n",
       "      <td>0.190776</td>\n",
       "      <td>...</td>\n",
       "      <td>-0.632456</td>\n",
       "      <td>0.0</td>\n",
       "      <td>-0.117444</td>\n",
       "      <td>0.0</td>\n",
       "      <td>0.0</td>\n",
       "      <td>0.0</td>\n",
       "      <td>0.0</td>\n",
       "      <td>-0.27735</td>\n",
       "      <td>-0.101535</td>\n",
       "      <td>-0.231869</td>\n",
       "    </tr>\n",
       "    <tr>\n",
       "      <th>85</th>\n",
       "      <td>0.778277</td>\n",
       "      <td>-0.744148</td>\n",
       "      <td>-1.246415</td>\n",
       "      <td>-0.153805</td>\n",
       "      <td>1.795747</td>\n",
       "      <td>2.090660</td>\n",
       "      <td>1.212000</td>\n",
       "      <td>-0.193840</td>\n",
       "      <td>0.337883</td>\n",
       "      <td>0.778277</td>\n",
       "      <td>...</td>\n",
       "      <td>-0.632456</td>\n",
       "      <td>0.0</td>\n",
       "      <td>-0.117444</td>\n",
       "      <td>0.0</td>\n",
       "      <td>0.0</td>\n",
       "      <td>0.0</td>\n",
       "      <td>0.0</td>\n",
       "      <td>-0.27735</td>\n",
       "      <td>-0.101535</td>\n",
       "      <td>-0.231869</td>\n",
       "    </tr>\n",
       "    <tr>\n",
       "      <th>82</th>\n",
       "      <td>0.113089</td>\n",
       "      <td>-0.212834</td>\n",
       "      <td>0.699506</td>\n",
       "      <td>-0.151109</td>\n",
       "      <td>-1.035991</td>\n",
       "      <td>-0.943347</td>\n",
       "      <td>-0.752944</td>\n",
       "      <td>-0.191478</td>\n",
       "      <td>0.299430</td>\n",
       "      <td>0.113089</td>\n",
       "      <td>...</td>\n",
       "      <td>-0.632456</td>\n",
       "      <td>0.0</td>\n",
       "      <td>-0.117444</td>\n",
       "      <td>0.0</td>\n",
       "      <td>0.0</td>\n",
       "      <td>0.0</td>\n",
       "      <td>0.0</td>\n",
       "      <td>-0.27735</td>\n",
       "      <td>-0.101535</td>\n",
       "      <td>-0.231869</td>\n",
       "    </tr>\n",
       "  </tbody>\n",
       "</table>\n",
       "<p>5 rows × 196 columns</p>\n",
       "</div>"
      ],
      "text/plain": [
       "     MaxEStateIndex  MinAbsEStateIndex  MinPartialCharge  MinAbsPartialCharge     MolWt  NumValenceElectrons  MaxAbsPartialCharge  MaxPartialCharge  MinEStateIndex  MaxAbsEStateIndex    ...     fr_sulfide  fr_sulfonamd  fr_sulfone  fr_term_acetylene  fr_tetrazole  fr_thiazole  fr_thiocyan  fr_thiophene  fr_unbrch_alkane   fr_urea\n",
       "id                                                                                                                                                                                        ...                                                                                                                                              \n",
       "272        0.165183          -0.715860          0.502416            -0.182170 -0.735797            -0.586405            -0.553927         -0.218696        0.338907           0.165183    ...      -0.632456           0.0   -0.117444                0.0           0.0          0.0          0.0      -0.27735         -0.101535 -0.231869\n",
       "113       -3.150479           2.873322         -1.246391            -0.516643  1.362647             1.257795             1.211976         -0.511787        0.814913          -3.150479    ...       1.581139           0.0   -0.117444                0.0           0.0          0.0          0.0      -0.27735         -0.101535 -0.231869\n",
       "132        0.190776          -0.693112          0.502416            -0.182170 -0.580221            -0.407934            -0.553927         -0.218696        0.330537           0.190776    ...      -0.632456           0.0   -0.117444                0.0           0.0          0.0          0.0      -0.27735         -0.101535 -0.231869\n",
       "85         0.778277          -0.744148         -1.246415            -0.153805  1.795747             2.090660             1.212000         -0.193840        0.337883           0.778277    ...      -0.632456           0.0   -0.117444                0.0           0.0          0.0          0.0      -0.27735         -0.101535 -0.231869\n",
       "82         0.113089          -0.212834          0.699506            -0.151109 -1.035991            -0.943347            -0.752944         -0.191478        0.299430           0.113089    ...      -0.632456           0.0   -0.117444                0.0           0.0          0.0          0.0      -0.27735         -0.101535 -0.231869\n",
       "\n",
       "[5 rows x 196 columns]"
      ]
     },
     "execution_count": 37,
     "metadata": {},
     "output_type": "execute_result"
    }
   ],
   "source": [
    "from sklearn.preprocessing import StandardScaler\n",
    "from pandas import DataFrame, concat\n",
    "\n",
    "def scale_df(frame, scaler):\n",
    "    return DataFrame(scaler.transform(frame), columns=frame.columns)\n",
    "\n",
    "scaler = StandardScaler(copy=False)\n",
    "scaler.fit(concat( (train_data.iloc[:,3:], test_data.iloc[:,3:]) ))\n",
    "\n",
    "descriptors_train = scale_df(train_data.iloc[:,3:], scaler)\n",
    "descriptors_train.index = train_data.index\n",
    "descriptors_test = scale_df(test_data.iloc[:,3:], scaler)\n",
    "descriptors_test.index = test_data.index\n",
    "print(descriptors_train.shape, descriptors_test.shape)\n",
    "descriptors_train.head()"
   ]
  },
  {
   "cell_type": "code",
   "execution_count": null,
   "metadata": {
    "collapsed": true
   },
   "outputs": [],
   "source": []
  }
 ],
 "metadata": {
  "kernelspec": {
   "display_name": "Python 3",
   "language": "python",
   "name": "python3"
  },
  "language_info": {
   "codemirror_mode": {
    "name": "ipython",
    "version": 3
   },
   "file_extension": ".py",
   "mimetype": "text/x-python",
   "name": "python",
   "nbconvert_exporter": "python",
   "pygments_lexer": "ipython3",
   "version": "3.5.3"
  }
 },
 "nbformat": 4,
 "nbformat_minor": 2
}
